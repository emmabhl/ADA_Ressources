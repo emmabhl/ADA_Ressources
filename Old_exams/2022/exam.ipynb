{
 "cells": [
  {
   "cell_type": "markdown",
   "id": "09e9a536",
   "metadata": {},
   "source": [
    "## ADA final exam (Fall 2022)\n",
    "\n",
    "This exam consists of 3 tasks. Tasks 2 and 3 are independent of each other (although conceptually related).\n"
   ]
  },
  {
   "cell_type": "markdown",
   "id": "68507ec4",
   "metadata": {},
   "source": [
    "## Dataset\n",
    "\n",
    "For a Wikipedia editor to become an administrator, a so-called “request for adminship” ([RfA](https://en.wikipedia.org/wiki/Wikipedia:Requests_for_adminship)) must be submitted by either the candidate or another community member. Subsequently, any Wikipedia member may cast a supporting or opposing vote. Here we provide a simplified version of the Wikipedia RfA dataset, containing all votes from 2003 through 2012.\n",
    "\n",
    "###  Data format\n",
    "\n",
    "|        |   SRC |   TGT |   VOT |   RES |   YEA | DAT                 | TXT                                                                                                                                                                                               |\n",
    "|-------:|------:|------:|------:|------:|------:|:--------------------|:--------------------------------------------------------------------------------------------------------------------------------------------------------------------------------------------------|\n",
    "|  39054 |  3444 | 10170 |     1 |     1 |  2009 | 2009-07-01 17:50:00 | '''Support''' - Best of luck. &nbsp;                                                                                                                                                              |\n",
    "| 159680 |   722 |  9634 |    -1 |    -1 |  2006 | 2006-12-15 07:28:00 | '''Oppose''' Not even 2000 edits.                                                                                                                                                                 |\n",
    "| 173438 |  4194 |  5524 |     1 |     1 |  2005 | 2005-03-18 19:22:00 | Ohhh, you're Carrp!  In that case, '''Support'''.                                                                                                                                                 |\n",
    "|  60627 |  4855 |  9436 |     1 |     1 |  2008 | 2008-12-18 23:26:00 | '''Support''' via thoughtful answer to my question that demonstrates this editor has clue.                                                 |\n",
    "| 194809 |  7687 |   908 |     1 |     1 |  2004 | 2004-09-25 05:21:00 | Nicholas is very good in English. Also, he got '''exceptional''' patience to explain petty obvious facts in talk page to convince ignorants. Let the world be benefitted more out of his work. -- |\n",
    "\n",
    "\n",
    "- SRC: the user name of the source of the vote, i.e., of the user who cast the vote.\n",
    "- TGT: the user name of the target of the vote, i.e., of the user running for election.\n",
    "- VOT: the source's vote on the target (-1 = oppose; 1 = support).\n",
    "- RES: the outcome of the election (-1 = target was rejected as admin; 1 = target was accepted). **(We will not use this  column in this exam.)**\n",
    "- YEA: the year of the RfA.\n",
    "- DAT: the date and time of this vote. **(We will not use this column in this exam.)**\n",
    "- TXT: the comment written by the source. **(We will not use this column in this exam.)**\n",
    "\n",
    "---\n"
   ]
  },
  {
   "cell_type": "markdown",
   "id": "4a4a661c",
   "metadata": {},
   "source": [
    "## Structural balance theory\n",
    "\n",
    "**Structural balance theory** affirms that social networks tend to be organized so as to avoid conflictual situations, e.g., if a great friend of yours hates someone, you will likely not befriend that person.\n",
    "\n",
    "The theory can be operationalized by looking at _triangles_ in an undirected _signed graph_ capturing person-to-person relationships, where a _signed graph_ is a  graph in which each edge is associated with a positive or negative sign, and a _triangle_ is a set of three edges ($\\langle u,v \\rangle$, $\\langle v,w\\rangle$, $\\langle u,w\\rangle$) that fully connect three distinct nodes ($u, v, w$).\n",
    "\n",
    "\n",
    "\n",
    "_Triangles_ in an undirected signed graph can be in 4 _configurations_:\n",
    "all positive edges ($\\{+,+,+\\}$); \n",
    "all negative edges ($\\{-,-,-\\}$); \n",
    "two positive edges and one negative edge ($\\{+,+,-\\}$);\n",
    "one positive edge and two negative edges ($\\{+,-,-\\}$).\n",
    "\n",
    "Structural balance theory posits that social networks tend to favor triangle configurations with an even number of negative signs (i.e., $\\{+,+,+\\}$ and $\\{+,-,-\\}$), which can be understood as being “balanced” by avoiding conflictual situations. Intuitively, $\\{+,+,+\\}$ could be tagged as “The friend of my friend is my friend”, and $\\{+,-,-\\}$ as “The enemy of my enemy is my friend”, “The friend of my enemy is my enemy”, or “The enemy of my friend is my enemy”. On the contrary, triangle configurations with an odd number of negative signs (i.e., $\\{+,+,-\\}$ and $\\{-,-,-\\}$) are unstable (“unbalanced”) according to structural balance theory and will thus occur less frequently in social networks. For instance, me being friends with two mutual enemies ($\\{+,+,-\\}$) would lead to tension that could be resolved if the two enemies became friends or if I took sides and ended my friendship with one of the two. Similarly, two among three mutual enemies ($\\{-,-,-\\}$) would have the incentive to form an alliance to “gang up” against the third.\n",
    "\n",
    "Some social scientists have argued that three mutual enemies ($\\{-,-,-\\}$) is not necessarily a triangle configuration that social networks tend to avoid. This gives rise to **weak structural balance theory**, which only posits that social networks tend to avoid the “unbalanced” triangle configuration $\\{+,+,-\\}$.\n",
    "\n",
    "In a nutshell,\n",
    "- structural balance theory\n",
    "  - considers $\\{+,+,+\\}$, $\\{+,-,-\\}$ as balanced,\n",
    "  - and $\\{+,+,-\\}$, $\\{-,-,-\\}$ as unbalanced;\n",
    "- weak structural balance theory\n",
    "  - considers $\\{+,+,+\\}$, $\\{+,-,-\\}$, $\\{-,-,-\\}$ as balanced,\n",
    "  - and $\\{+,+,-\\}$ as unbalanced.\n",
    "\n"
   ]
  },
  {
   "cell_type": "markdown",
   "id": "d5f337c9",
   "metadata": {},
   "source": [
    "### Task 1: Preliminaries\n",
    "\n",
    "As a good data scientist, you first load the data and explore it.\n",
    "\n",
    "**1.1**\n",
    "Load the csv file `wiki-RfA.csv.gz` in a pandas dataframe. Calculate the number of distinct RfAs and the average number of votes per RfA.\n",
    "- **Hint:** Throughout this question, assume that each RfA is uniquely determined by the column `TGT` and each vote is uniquely determined by the combination of `SRC` and `TGT`."
   ]
  },
  {
   "cell_type": "code",
   "execution_count": 1,
   "id": "27e485e6",
   "metadata": {},
   "outputs": [],
   "source": [
    "#import networkx as nx\n",
    "\n",
    "import pandas as pd\n",
    "import matplotlib.pyplot as plt\n",
    "import seaborn as sns\n",
    "%matplotlib inline\n",
    "\n",
    "import warnings\n",
    "warnings.filterwarnings('ignore')"
   ]
  },
  {
   "cell_type": "code",
   "execution_count": 2,
   "id": "ff2e92a5",
   "metadata": {},
   "outputs": [],
   "source": [
    "# 1.1\n",
    "wiki_RfA = pd.read_csv('wiki-RfA.csv.gz')"
   ]
  },
  {
   "cell_type": "code",
   "execution_count": 3,
   "id": "84332e50",
   "metadata": {},
   "outputs": [
    {
     "name": "stdout",
     "output_type": "stream",
     "text": [
      "There is 3439 user running for RfA\n",
      "The average of votes per RfA is 48.56\n"
     ]
    }
   ],
   "source": [
    "wiki_RfA.groupby(['TGT']).size()\n",
    "print(f'There is {wiki_RfA.TGT.nunique()} user running for RfA')\n",
    "print(f'The average of votes per RfA is {wiki_RfA.groupby(\"TGT\").size().mean():.2f}')"
   ]
  },
  {
   "cell_type": "markdown",
   "id": "813b5a32",
   "metadata": {},
   "source": [
    "**1.2** \n",
    "In a single figure with three subfigures (one per item), show the following time series:\n",
    "- the number of RfAs per year;\n",
    "- the overall fraction of positive votes per year; and \n",
    "- the average number of votes per RfA per year.\n",
    "\n",
    "For each of the above three quantities, print the value for the year 2008."
   ]
  },
  {
   "cell_type": "code",
   "execution_count": 4,
   "id": "b1732d7e",
   "metadata": {},
   "outputs": [
    {
     "data": {
      "image/png": "[encoded data removed]",
      "text/plain": [
       "<Figure size 1000x600 with 3 Axes>"
      ]
     },
     "metadata": {},
     "output_type": "display_data"
    }
   ],
   "source": [
    "# 1.2 \n",
    "fig, axes = plt.subplots(1, 3, figsize = (10,6))\n",
    "\n",
    "RfA_year = wiki_RfA.groupby('YEA').TGT.nunique()\n",
    "sns.barplot(data=RfA_year, ax=axes[0])\n",
    "\n",
    "frac_pos = wiki_RfA.groupby('YEA').VOT.apply(lambda x: x.mean()/2+0.5)\n",
    "sns.barplot(data=frac_pos, ax=axes[1])\n",
    "\n",
    "nb_votes = wiki_RfA.groupby(['YEA', 'TGT']).size().groupby('YEA').mean()\n",
    "sns.barplot(data=nb_votes, ax=axes[2])\n",
    "\n",
    "plt.show()\n",
    "\n"
   ]
  },
  {
   "cell_type": "markdown",
   "id": "366d38d9",
   "metadata": {},
   "source": [
    "**1.3** \n",
    "**/Discuss:/** Describe the temporal patterns observed in the plots you did in **T1.2**."
   ]
  },
  {
   "cell_type": "markdown",
   "id": "e77900f8",
   "metadata": {},
   "source": [
    "**A1.3** \n",
    "The users running for RfA strongly increases starting from 2003 until reaching a peak in 2007 and then decreases until 2012. The fraction of positive votes started very high in 2003 (very close to 100% positive votes) and then decreases through the year while always remaining above 50%. The number of votes per RfA generally increases during the whole period."
   ]
  },
  {
   "cell_type": "markdown",
   "id": "81126c89",
   "metadata": {},
   "source": [
    "**1.4** \n",
    "Create an undirected graph ([`nx.Graph`](https://networkx.org/documentation/stable/reference/classes/graph.html)) where every node corresponds to a Wikipedia user (source or target of an RfA) and where there exists an edge between two users if at least one of them has voted on the other. Each edge should have attributes corresponding to columns of the dataframe, namely:\n",
    "- `VOT`, which equals `1` if the vote was positive, and `-1` otherwise.\n",
    "- `YEA`, an integer that represents the year of the RfA.\n",
    "\n",
    "**The code to load the graph has been provided to you!** After running it, print the number of nodes and edges in your graph.\n",
    "\n",
    "---\n",
    "\n",
    "**Observation:** Note that we have at most one edge per pair of nodes in the graph, even though two votes may be associated with the pair  — e.g., if A voted in B's RfA in time $t_1$ and B voted in A's RfA in time $t_2$ ($t_1 < t_2$). In these cases, the code provided associates the metadata of the oldest vote ($t_1$ in the example) to the edge between A and B."
   ]
  },
  {
   "cell_type": "code",
   "execution_count": 5,
   "id": "e57d4776",
   "metadata": {},
   "outputs": [],
   "source": [
    "# Provided code! Do not change!\n",
    "import networkx as nx\n",
    "import pandas as pd\n",
    "G = nx.from_pandas_edgelist(pd.read_csv(\"./wiki-RfA.csv.gz\"), \n",
    "                            'SRC', 'TGT', ['VOT', 'RES', 'YEA', 'DAT'], create_using=nx.Graph)"
   ]
  },
  {
   "cell_type": "code",
   "execution_count": 6,
   "id": "f21ec7a6",
   "metadata": {},
   "outputs": [
    {
     "name": "stdout",
     "output_type": "stream",
     "text": [
      "Number of edges : 161147\n",
      "Number of nodes : 10831\n"
     ]
    }
   ],
   "source": [
    "# 1.4 \n",
    "print(f'Number of edges : {len(G.edges)}')\n",
    "print(f'Number of nodes : {len(G.nodes)}')\n",
    "\n"
   ]
  },
  {
   "cell_type": "markdown",
   "id": "37cbd1b8",
   "metadata": {},
   "source": [
    "**1.5** \n",
    "Plot the **complementary** cumulative distribution of the degree centrality of the undirected graph. Use a logarithmic (base 10) x-axis and a linear y-axis."
   ]
  },
  {
   "cell_type": "code",
   "execution_count": 7,
   "id": "c1edfd6a",
   "metadata": {},
   "outputs": [
    {
     "data": {
      "image/png": "[encoded data removed]",
      "text/plain": [
       "<Figure size 640x480 with 1 Axes>"
      ]
     },
     "metadata": {},
     "output_type": "display_data"
    }
   ],
   "source": [
    "# 1.5\n",
    "degrees = list(dict(G.degree()).values())\n",
    "\n",
    "sns.ecdfplot(data=degrees, complementary=True, log_scale=(True, False))\n",
    "plt.axvline(x=11)\n",
    "plt.show()"
   ]
  },
  {
   "cell_type": "markdown",
   "id": "935be3bf",
   "metadata": {},
   "source": [
    "\n",
    "**1.6**\n",
    "**/Discuss:/** Why is the following statement false? Justify your answer. **\"From the graph obtained in task 1.5, one can conclude that around 40% of the users voted at least 11 times.\"**\n"
   ]
  },
  {
   "cell_type": "markdown",
   "id": "3316f395",
   "metadata": {},
   "source": [
    "**A1.6**\n",
    "We use an undirected graph meaning that we merge all voters and votees. Hence when we count the number of edges for the degrees we consider both the number of votes that has been made by each source as well as the number of votes *received* by a target (which is in general way higher and therefore shift the distribution to higher values)"
   ]
  },
  {
   "cell_type": "markdown",
   "id": "9d1d5f4a",
   "metadata": {},
   "source": [
    "**1.7**\n",
    "What fraction of users voted at least 11 times? Use the data to measure the fraction."
   ]
  },
  {
   "cell_type": "code",
   "execution_count": 8,
   "id": "a167a11b",
   "metadata": {},
   "outputs": [
    {
     "name": "stdout",
     "output_type": "stream",
     "text": [
      "The fraction of users voted at least 11 times is 0.27459977567043947\n"
     ]
    }
   ],
   "source": [
    "SRC_11votes = (wiki_RfA.groupby('SRC').size() >= 11).sum()\n",
    "print(f'The fraction of users voted at least 11 times is {SRC_11votes/wiki_RfA.SRC.nunique()}')"
   ]
  },
  {
   "cell_type": "markdown",
   "id": "35b05b29",
   "metadata": {},
   "source": [
    "### Task 2: Triangles\n",
    "\n",
    "Next, you set out to investigate the social balance theory by looking at the RfA graph.\n",
    "\n",
    "**2.1**\n",
    "Considering _only_ the RfAs of 2004 (i.e., where `YEA == 2004`), generate all triangles in the undirected graph.\n",
    "Print the number of triangles found.\n",
    "- **Hint:** Note that you can generate a graph with only a subset of nodes and edges via ` G.edge_subgraph`.\n",
    "-  **Hint:** The function `nx.enumerate_all_cliques` generates all cliques in an undirected graph. First, all cliques of size 1 are generated, then all cliques of size 2, etc. Triangles are cliques of size 3.\n"
   ]
  },
  {
   "cell_type": "code",
   "execution_count": 9,
   "id": "b39a403e",
   "metadata": {},
   "outputs": [
    {
     "name": "stdout",
     "output_type": "stream",
     "text": [
      "Number of triangles found : 8448\n"
     ]
    }
   ],
   "source": [
    "# 2.1\n",
    "G2004 = G.edge_subgraph(list(wiki_RfA[wiki_RfA.YEA == 2004][['SRC', 'TGT']].itertuples(index=False, name=None)))\n",
    "len(G2004.edges)\n",
    "\n",
    "triangles = []\n",
    "for cliques in nx.enumerate_all_cliques(G2004):\n",
    "    if len(cliques)==3:\n",
    "        triangles.append(cliques)\n",
    "    if len(cliques) > 3: break\n",
    "print(f'Number of triangles found : {len(triangles)}')"
   ]
  },
  {
   "cell_type": "markdown",
   "id": "9b8ac389",
   "metadata": {},
   "source": [
    "**2.2 ** **/True or false:/** Is the following statement true or false? Justify your answer. **\"The node with the highest clustering coefficient in an undirected graph is the node that belongs to the largest number of triangles.\"**"
   ]
  },
  {
   "cell_type": "markdown",
   "id": "f961eef7",
   "metadata": {},
   "source": [
    "**A2.2**\n",
    "The clustering coefficient corresponds to the number of edges among the neighbours of a node compared to the potential number of nodes. This means that for a node to have a large clustering coefficient it should be involved in lots of triangles *compared to the number of neighbors it have*. Thus if a node belongs to the largest number of triangles but also in a lot of non-triangular relation then it not necessarily have a high clustering coefficient."
   ]
  },
  {
   "cell_type": "markdown",
   "id": "e2f5b22c",
   "metadata": {},
   "source": [
    "**2.3** Considering the set of triangles previously calculated, estimate the fraction of triangles of configurations\n",
    " $\\{+,+,+\\}$,  $\\{-,-,-\\}$,  $\\{+,+,-\\}$, and $\\{+,-,-\\}$. What fraction of triangles are \"balanced\" according to structural balance theory?"
   ]
  },
  {
   "cell_type": "code",
   "execution_count": 10,
   "id": "1f0adb9d",
   "metadata": {},
   "outputs": [],
   "source": [
    "votes = []\n",
    "for element in triangles:\n",
    "    triangle = G2004.edge_subgraph([(element[0], element[1]), (element[1], element[2]), (element[0], element[2])])\n",
    "    vals = list(nx.get_edge_attributes(triangle, 'VOT').values())\n",
    "    if vals == [1,1,1]:\n",
    "        votes.append('ppp')\n",
    "    elif vals == [-1,-1,-1]:\n",
    "        votes.append('mmm')\n",
    "    elif (vals == [1,1,-1]) | (vals == [1,-1,1]) | (vals == [-1,1,1]):\n",
    "        votes.append('ppm')\n",
    "    elif (vals == [1,-1,-1]) | (vals == [-1,1,-1]) | (vals == [-1,-1,1]):\n",
    "        votes.append('pmm')\n",
    "votes = pd.Series(votes)"
   ]
  },
  {
   "cell_type": "code",
   "execution_count": 11,
   "id": "870997a6",
   "metadata": {},
   "outputs": [
    {
     "data": {
      "text/plain": [
       "ppp    0.792614\n",
       "ppm    0.139441\n",
       "pmm    0.062737\n",
       "mmm    0.005208\n",
       "Name: proportion, dtype: float64"
      ]
     },
     "execution_count": 11,
     "metadata": {},
     "output_type": "execute_result"
    }
   ],
   "source": [
    "configs = votes.value_counts(normalize=True)\n",
    "configs"
   ]
  },
  {
   "cell_type": "code",
   "execution_count": 12,
   "id": "fe08a891",
   "metadata": {},
   "outputs": [
    {
     "name": "stdout",
     "output_type": "stream",
     "text": [
      "The fraction of triangles that are \"balanced\" according to structural balance theory is 0.86\n"
     ]
    }
   ],
   "source": [
    "balanced_fraction = configs.loc['ppp'] + configs.loc['pmm']\n",
    "print(f'The fraction of triangles that are \"balanced\" according to structural balance theory is {balanced_fraction:.2f}')"
   ]
  },
  {
   "cell_type": "markdown",
   "id": "97e6f9f0",
   "metadata": {},
   "source": [
    "**2.4** To observe how triangle configurations would be distributed under a random null model, do the following:\n",
    "- Create a new column `VOT_RND` in the dataframe, where RfA votes (i.e., edge signs in the graph) are shuffled, i.e., permuted randomly.  For shuffling, use `numpy.random`, without replacement and with the seed 32 (see code provided below).\n",
    "- Create a new edge attribute with the values of `VOT_RND` in the graph you created in task **1.4**. You can do this easily using the  [`set_edge_attributes`](https://networkx.org/documentation/stable/reference/generated/networkx.classes.function.set_edge_attributes.html) function.\n",
    "- Considering the shuffled edge signs,  compute the fraction of triangles in each configuration ($\\{+,+,+\\}$,  $\\{-,-,-\\}$,  $\\{+,+,-\\}$, $\\{+,-,-\\}$). Moreover, compute the fraction of triangles that are \"balanced\" according to structural balance theory. (Reminder: consider only the RfAs of 2004.)\n"
   ]
  },
  {
   "cell_type": "code",
   "execution_count": 22,
   "id": "8b4cba61",
   "metadata": {},
   "outputs": [],
   "source": [
    "# PROVIDED STUB FOR 2.4\n",
    "import numpy as np\n",
    "np.random.seed(32)\n",
    "df_2004 = wiki_RfA[wiki_RfA.YEA == 2004].copy(deep=True)\n",
    "df_2004[\"VOT_RND\"] = np.random.choice(df_2004[\"VOT\"].values, size=len(df_2004), replace=False)\n",
    "\n",
    "# Create new edge attribute\n",
    "nx.set_edge_attributes(G2004, pd.DataFrame(index = list(df_2004[['SRC', 'TGT']].itertuples(index=False, name=None)), data=df_2004[\"VOT_RND\"].values).to_dict()[0], 'VOT_RND')"
   ]
  },
  {
   "cell_type": "code",
   "execution_count": 23,
   "id": "49cf240b",
   "metadata": {},
   "outputs": [
    {
     "name": "stdout",
     "output_type": "stream",
     "text": [
      "ppp    0.685724\n",
      "ppm    0.277936\n",
      "pmm    0.034446\n",
      "mmm    0.001894\n",
      "Name: proportion, dtype: float64\n",
      "The fraction of triangles that are \"balanced\" according to structural balance theory is 0.72\n"
     ]
    }
   ],
   "source": [
    "votes = []\n",
    "for element in triangles:\n",
    "    triangle = G2004.edge_subgraph([(element[0], element[1]), (element[1], element[2]), (element[0], element[2])])\n",
    "    vals = list(nx.get_edge_attributes(triangle, 'VOT_RND').values())\n",
    "    if vals == [1,1,1]:\n",
    "        votes.append('ppp')\n",
    "    elif vals == [-1,-1,-1]:\n",
    "        votes.append('mmm')\n",
    "    elif (vals == [1,1,-1]) | (vals == [1,-1,1]) | (vals == [-1,1,1]):\n",
    "        votes.append('ppm')\n",
    "    elif (vals == [1,-1,-1]) | (vals == [-1,1,-1]) | (vals == [-1,-1,1]):\n",
    "        votes.append('pmm')\n",
    "votes = pd.Series(votes)\n",
    "\n",
    "configs = votes.value_counts(normalize=True)\n",
    "print(configs)\n",
    "\n",
    "balanced_fraction = configs.loc['ppp'] + configs.loc['pmm']\n",
    "print(f'The fraction of triangles that are \"balanced\" according to structural balance theory is {balanced_fraction:.2f}')"
   ]
  },
  {
   "cell_type": "markdown",
   "id": "f055a145",
   "metadata": {},
   "source": [
    "**2.5** **/Discuss:/** Do the results of tasks **2.3** and **2.4** suggest that structural balance theory is correct? What kind of subsequent analysis would make you trust that the results are not obtained simply by chance? (No need to actually perform that subsequent analysis here.) Justify your answer."
   ]
  },
  {
   "cell_type": "markdown",
   "id": "dcd070a6",
   "metadata": {},
   "source": [
    "**A2.5** The fraction of balanced triangle are higher in the dataset we have compared with a random dataset so it indeed suggests that the structural balance theory might be correct on our dataset. But to be sure of that we could reproduce the shuffling multiple times and check with a statistical test if the fractions we get are indeed statistically lower than the value we have with our dataset."
   ]
  },
  {
   "cell_type": "markdown",
   "id": "d5252ffb",
   "metadata": {},
   "source": [
    "### Interlude: Additional data\n",
    "\n",
    "In the data provided in the file `wiki-RfA.csv.gz` (with which you’ve worked up to now), each column corresponds to a vote from a user $u$ to a user $v$ at a time $t$. \n",
    "\n",
    "In **Task 2**, we did not consider the temporal aspect of this network. For the next task, you are provided with a complimentary dataset (`data/wiki-RfA_extra.csv.gz`) containing, for each vote (uniquely determined by `SRC` and `TGT`), a variety of features. **Importantly, these features were calculated considering only data that was already available at the time when the respective vote was cast.** The features are described as follows.\n",
    "\n",
    "- `PP`, `NN`, `PN` — Each vote (signed edge) is part of zero or more triangles, and we computed the number of triangles in which the two remaining edges were both positive (`PP`), both negative (`NN`) and of different signs (i.e., one positive and one negative, `PN`). This considers only the votes the target (denoted by `TGT`) has received before the current vote. \n",
    "\n",
    "- `P`, `N` — The number of positive (`P`) and negative (`N`) votes that the target `TGT` received before the current vote.\n",
    "\n",
    "- `TXT_PROCESSED` — The text in the original dataset, processed so 1) it is entirely lower-case, 2) it does not contain non-alphanumeric characters, and 3) it does not contain words starting with “supp” or “opp” (since words such as \"support\" and \"oppose\"  are obvious give-away signals of the vote).\n",
    "\n",
    "### Interlude: Predicting edge signs with structural balance theory\n",
    "\n",
    "We can use structural balance theory to predict edge signs. \n",
    "\n",
    "Consider an edge whose sign we do not know, as well as the fractions `PP`, `NN`, and `PN` associated with the edge, as defined above. \n",
    "\n",
    "According to structural balance theory, if `PP` + `NN` $\\geq$ `PN`, the vote is predicted to be positive, as this will create more balanced triangles in the graph. Otherwise, it is predicted to be negative. \n",
    "\n",
    "According to the weak structural balance theory, if `PP` $\\geq$ `PN`, the vote is predicted to be positive, as this will create more balanced triangles in the graph. Otherwise, it is predicted to be negative. \n",
    "\n",
    "Note that in both cases we use “$\\geq$” rather than “<”, i.e., when both sides of the equation are equal, we break ties in favor of positive edges. We do so because there are more positive edges in the graph."
   ]
  },
  {
   "cell_type": "markdown",
   "id": "e2f20eed",
   "metadata": {},
   "source": [
    "### Task 3: Predict it!\n",
    "\n",
    "In the final part of the exam, you will leverage your machine learning and regression skills.\n",
    "\n",
    "**3.1** Merge the new dataset with the original dataframe from task **1** using the columns `SRC` and `TGT`. You may drop the old `TXT` column if you want to. \n"
   ]
  },
  {
   "cell_type": "code",
   "execution_count": 31,
   "id": "a2272113",
   "metadata": {},
   "outputs": [],
   "source": [
    "extra_df = pd.read_csv('wiki-RfA_extra.csv.gz')"
   ]
  },
  {
   "cell_type": "code",
   "execution_count": 34,
   "id": "693f4e14",
   "metadata": {},
   "outputs": [],
   "source": [
    "big_df = pd.merge(wiki_RfA, extra_df, how='inner', on=['SRC', 'TGT'])\n",
    "big_df.drop('TXT', axis=1, inplace=True)"
   ]
  },
  {
   "cell_type": "markdown",
   "id": "c5d42a2d",
   "metadata": {},
   "source": [
    "**3.2**  Create the following two rule-based classifiers, and for each, estimate its area under the ROC curve (a.k.a. “AUC/ROC”) on the entire dataset:\n",
    "\n",
    "- **A)** a classifier inspired by structural balance theory. The classifier should predict a positive vote if  `PP` + `NN` $\\geq$ `PN`, and a negative vote otherwise.\n",
    "- **B)** a classifier inspired by weak structural balance theory. The classifier should predict a positive vote if `PP`  $\\geq$ `PN` and a negative vote otherwise."
   ]
  },
  {
   "cell_type": "code",
   "execution_count": 41,
   "id": "d52270fe",
   "metadata": {},
   "outputs": [],
   "source": [
    "from sklearn.metrics import roc_auc_score"
   ]
  },
  {
   "cell_type": "code",
   "execution_count": 43,
   "id": "44643421",
   "metadata": {},
   "outputs": [],
   "source": [
    "real_out = big_df.VOT == 1\n",
    "pred_outA = big_df.PP + big_df.NN >= big_df.PN\n",
    "pred_outB = big_df.PP >= big_df.PN"
   ]
  },
  {
   "cell_type": "code",
   "execution_count": 44,
   "id": "d5043e30",
   "metadata": {},
   "outputs": [
    {
     "name": "stdout",
     "output_type": "stream",
     "text": [
      "AUC of the classifier A: 0.525390127858417\n",
      "AUC of the classifier B: 0.528036104766419\n"
     ]
    }
   ],
   "source": [
    "scoreA = roc_auc_score(real_out, pred_outA)\n",
    "scoreB = roc_auc_score(real_out, pred_outB)\n",
    "print(f'AUC of the classifier A: {scoreA}')\n",
    "print(f'AUC of the classifier B: {scoreB}')\n"
   ]
  },
  {
   "cell_type": "markdown",
   "id": "0161ec09",
   "metadata": {},
   "source": [
    "**3.3** To determine if the differences in the classifiers from task **3.2** occur solely due to chance, follow the following bootstrap procedure, using 200 iterations:\n",
    "\n",
    "- **A)** Randomly sample the entire dataset (i.e., votes from the dataframe constructed in task **3.1**) with replacement;\n",
    "- **B)** Compute the difference of the AUC/ROC for the two classifiers on the entire dataset.\n",
    "\n",
    "Then use the distribution of AUC/ROC differences (one difference per bootstrap iteration) to estimate the 95% confidence interval for the AUC/ROC difference."
   ]
  },
  {
   "cell_type": "code",
   "execution_count": 48,
   "id": "817ee28f",
   "metadata": {},
   "outputs": [
    {
     "name": "stdout",
     "output_type": "stream",
     "text": [
      "The 95% confidence interval for the AUC/ROC estimated with the bootstrap is : -0.002676792469507353 - -0.0026203274874689606\n"
     ]
    }
   ],
   "source": [
    "iterations = 200\n",
    "diffs = np.zeros(iterations)\n",
    "\n",
    "for i in range(iterations):\n",
    "    bootstrap_sample = np.random.choice(big_df.index, size=len(big_df), replace=True)\n",
    "    bootstrap_sample = big_df.loc[bootstrap_sample]\n",
    "    real_out = bootstrap_sample.VOT == 1\n",
    "    pred_outA = bootstrap_sample.PP + bootstrap_sample.NN >= bootstrap_sample.PN\n",
    "    pred_outB = bootstrap_sample.PP >= bootstrap_sample.PN\n",
    "    diffs[i] = roc_auc_score(real_out, pred_outA) - roc_auc_score(real_out, pred_outB)\n",
    "\n",
    "iterations_ci = 1000\n",
    "means = np.zeros(iterations_ci)\n",
    "\n",
    "for i in range(iterations_ci):\n",
    "    bootstrap_sample = np.random.choice(diffs, size=len(diffs), replace=True)\n",
    "    means[i] = np.mean(bootstrap_sample)\n",
    "    \n",
    "lower_bound = np.percentile(means, 2.5)\n",
    "upper_bound = np.percentile(means, 97.5)\n",
    "\n",
    "print(f'The 95% confidence interval for the AUC/ROC estimated with the bootstrap is from {lower_bound} to {upper_bound}')"
   ]
  },
  {
   "cell_type": "markdown",
   "id": "4d0e1569",
   "metadata": {},
   "source": [
    "**3.4 ** **/Discuss:**/ According to the results in tasks **3.2** and **3.3**, which theory better predicts actual edge signs, structural balance theory or the weak structural balance theory? \n"
   ]
  },
  {
   "cell_type": "markdown",
   "id": "94b39801",
   "metadata": {},
   "source": [
    "**A3.4** The 95% confidence interval doesn't include the value 0 so there is a statistical difference between both models at the 0.5 level. As the mean difference is negative and as we substracted the model B from the model A this means that the model B, the weak structural balance theory, is better to predict the outcome."
   ]
  },
  {
   "cell_type": "markdown",
   "id": "28d37dc1",
   "metadata": {},
   "source": [
    "**3.5** How accurately can we predict the vote with more sophisticated features and algorithms?\n",
    "\n",
    "- Create a TF-IDF representation of the text of each vote  using `sklearn`'s vectorizer ([`sklearn.feature_extraction.text.TfidfVectorizer`](https://scikit-learn.org/stable/modules/generated/sklearn.feature_extraction.text.TfidfVectorizer.html)) with the parameters `max_features=150` and `stop_words='english'`.\n",
    "- Split the  dataset into training and test sets using sklearn [`sklearn.model_selection.train_test_split`](https://scikit-learn.org/stable/modules/generated/sklearn.model_selection.train_test_split.html) using parameters `test_size=0.1` and  `random_state=42`.\n",
    "\n",
    "- Then, train two logistic regression models ([`sklearn.linear_model.SGDClassifier`](https://scikit-learn.org/stable/modules/generated/sklearn.linear_model.SGDClassifier.html)) using parameters `loss='log_loss'` and `max_iter=2000` considering:\n",
    "\n",
    "    - **1)** the TF-IDF feature vector\n",
    "\n",
    "    - **2)** the TF-IDF feature vector and the features `PP`, `NN`, `PN`, `P`, and `N` related to the graph.\n",
    "\n",
    "- Last, report the AUC/ROC of each model in the test set."
   ]
  },
  {
   "cell_type": "code",
   "execution_count": 69,
   "id": "764a00f3",
   "metadata": {},
   "outputs": [],
   "source": [
    "from sklearn.feature_extraction.text import TfidfVectorizer\n",
    "from sklearn.model_selection import train_test_split\n",
    "from sklearn.linear_model import SGDClassifier\n",
    "from scipy.sparse import hstack"
   ]
  },
  {
   "cell_type": "code",
   "execution_count": 55,
   "id": "2f9f7803",
   "metadata": {},
   "outputs": [],
   "source": [
    "# remove nan\n",
    "text_df = big_df.TXT_PROCESSED.dropna()\n",
    "real_out = big_df.loc[text_df.index].VOT"
   ]
  },
  {
   "cell_type": "code",
   "execution_count": 56,
   "id": "1ea55020",
   "metadata": {},
   "outputs": [],
   "source": [
    "vectorizer = TfidfVectorizer(stop_words='english', max_features=150)\n",
    "Tfidf = vectorizer.fit_transform(text_df)\n",
    "X_train, X_test, y_train, y_test = train_test_split(Tfidf, real_out, test_size=0.1, random_state=42)"
   ]
  },
  {
   "cell_type": "code",
   "execution_count": 71,
   "id": "5008e672",
   "metadata": {},
   "outputs": [],
   "source": [
    "clfA = SGDClassifier(loss='log_loss', max_iter=2000).fit(X_train, y_train)\n",
    "predA = clfA.predict(X_test)\n",
    "\n",
    "X_trainB = hstack([X_train,big_df.loc[y_train.index][['PP', 'NN', 'PN', 'P', 'N']]])\n",
    "X_testB = hstack([X_test,big_df.loc[y_test.index][['PP', 'NN', 'PN', 'P', 'N']]])\n",
    "clfB = SGDClassifier(loss='log_loss', max_iter=2000).fit(X_trainB, y_train)\n",
    "predB = clfB.predict(X_testB)"
   ]
  },
  {
   "cell_type": "code",
   "execution_count": 74,
   "id": "1008d256",
   "metadata": {},
   "outputs": [
    {
     "name": "stdout",
     "output_type": "stream",
     "text": [
      "AUC of the first model: 0.7110333295621243\n",
      "AUC of the second model: 0.7857231693937385\n"
     ]
    }
   ],
   "source": [
    "print(f'AUC of the first model: {roc_auc_score(y_test, predA)}')\n",
    "print(f'AUC of the second model: {roc_auc_score(y_test, predB)}')"
   ]
  },
  {
   "cell_type": "markdown",
   "id": "898cbdd1",
   "metadata": {},
   "source": [
    "**3.6** **/Discuss:**/  According to the results in task **3.5**, does information from the graph help in the task of predicting the vote even when using the text?  What kind of subsequent analysis would make you trust that the results are not obtained simply by chance? (No need to actually perform that subsequent analysis here.) "
   ]
  },
  {
   "cell_type": "markdown",
   "id": "6b6767ad",
   "metadata": {},
   "source": [
    "**A3.6** The AUC score of the model with graph information is higher than the one without them so it might suggest that these informations help to predict more accurately the vote of a source for a specific target. However to be sure of these assumptions it would be good to use cross validation and repeat the same test several times to then be able to implement a statistical test and check if the difference in performance between both models are indeed significant "
   ]
  },
  {
   "cell_type": "markdown",
   "id": "7f51071d",
   "metadata": {},
   "source": [
    "**3.7** Putting on your observational studies hat, run two logistic regressions using `statsmodels`.\n",
    "- In the first regression, the vote is the outcome, and `PP`, `NN` and `PN` are the predictors.\n",
    "- In the second regression, the vote is the outcome, and `PP`, `NN`, `PN`, and `N` are the predictors."
   ]
  },
  {
   "cell_type": "code",
   "execution_count": 81,
   "id": "b68746dc",
   "metadata": {},
   "outputs": [],
   "source": [
    "cols = ['PP', 'NN', 'PN', 'N']\n",
    "for col in cols :\n",
    "    big_df[col] = (big_df[col] - big_df[col].mean())/big_df[col].std()\n",
    "\n",
    "big_df.VOT = (big_df.VOT == 1).astype(int)"
   ]
  },
  {
   "cell_type": "code",
   "execution_count": 82,
   "id": "9f8df411",
   "metadata": {},
   "outputs": [
    {
     "name": "stdout",
     "output_type": "stream",
     "text": [
      "Optimization terminated successfully.\n",
      "         Current function value: 0.514594\n",
      "         Iterations 7\n",
      "                           Logit Regression Results                           \n",
      "==============================================================================\n",
      "Dep. Variable:                    VOT   No. Observations:               167003\n",
      "Model:                          Logit   Df Residuals:                   166999\n",
      "Method:                           MLE   Df Model:                            3\n",
      "Date:                Mon, 15 Jan 2024   Pseudo R-squ.:                 0.01804\n",
      "Time:                        21:17:17   Log-Likelihood:                -85939.\n",
      "converged:                       True   LL-Null:                       -87517.\n",
      "Covariance Type:            nonrobust   LLR p-value:                     0.000\n",
      "==============================================================================\n",
      "                 coef    std err          z      P>|z|      [0.025      0.975]\n",
      "------------------------------------------------------------------------------\n",
      "Intercept      1.3092      0.006    214.006      0.000       1.297       1.321\n",
      "PP             0.4409      0.013     34.272      0.000       0.416       0.466\n",
      "NN            -0.1255      0.007    -16.946      0.000      -0.140      -0.111\n",
      "PN            -0.3380      0.008    -40.304      0.000      -0.354      -0.322\n",
      "==============================================================================\n",
      "Optimization terminated successfully.\n",
      "         Current function value: 0.487994\n",
      "         Iterations 7\n",
      "                           Logit Regression Results                           \n",
      "==============================================================================\n",
      "Dep. Variable:                    VOT   No. Observations:               167003\n",
      "Model:                          Logit   Df Residuals:                   166998\n",
      "Method:                           MLE   Df Model:                            4\n",
      "Date:                Mon, 15 Jan 2024   Pseudo R-squ.:                 0.06880\n",
      "Time:                        21:17:18   Log-Likelihood:                -81496.\n",
      "converged:                       True   LL-Null:                       -87517.\n",
      "Covariance Type:            nonrobust   LLR p-value:                     0.000\n",
      "==============================================================================\n",
      "                 coef    std err          z      P>|z|      [0.025      0.975]\n",
      "------------------------------------------------------------------------------\n",
      "Intercept      1.3639      0.006    213.354      0.000       1.351       1.376\n",
      "PP             0.4483      0.013     33.344      0.000       0.422       0.475\n",
      "NN            -0.1014      0.007    -13.631      0.000      -0.116      -0.087\n",
      "PN            -0.2799      0.008    -33.013      0.000      -0.297      -0.263\n",
      "N             -0.5277      0.006    -89.263      0.000      -0.539      -0.516\n",
      "==============================================================================\n"
     ]
    }
   ],
   "source": [
    "import statsmodels.formula.api as smf\n",
    "\n",
    "mod = smf.logit(formula='VOT ~ PP + NN + PN', data=big_df)\n",
    "res = mod.fit()\n",
    "print(res.summary())\n",
    "\n",
    "mod = smf.logit(formula='VOT ~ PP + NN + PN + N', data=big_df)\n",
    "res = mod.fit()\n",
    "print(res.summary())"
   ]
  },
  {
   "cell_type": "markdown",
   "id": "db15d090",
   "metadata": {},
   "source": [
    "**3.8** **/Discuss:**/   Explain what the coefficient associated with `PP` means in the first regression. Is it in accordance with structural balance theory?"
   ]
  },
  {
   "cell_type": "markdown",
   "id": "48845787",
   "metadata": {},
   "source": [
    "**A3.8** When all other predictors take mean values, an increase of PP by 1 standard deviation, leads on average to an increase by 0.4409 of log odds of getting a positive vote. This is in accordance with structural balance theory as it states that we want to maximise the balance structure namely {+++} and {+--}. Thus if we have more PP then the only balance structure we can reach is {+++} so we need a third positive vote."
   ]
  },
  {
   "cell_type": "markdown",
   "id": "49752dbb",
   "metadata": {},
   "source": [
    "**3.9** **/Discuss:**/   Compare the coefficients associated with `PN` and `NN` in the first vs. the second regression. Present a reason that may explain this difference."
   ]
  },
  {
   "cell_type": "markdown",
   "id": "8ab7612b",
   "metadata": {},
   "source": [
    "**A3.9**  Both coefficients decreases in the second regression and since the number of PN and NN are obviously correlated with the number of negative vote (i.e. N), then PN and NN were also working as a proxy for N, but when we add N explicitly, this proxy effect disappears."
   ]
  },
  {
   "cell_type": "markdown",
   "id": "207c9147",
   "metadata": {},
   "source": [
    "---"
   ]
  }
 ],
 "metadata": {
  "kernelspec": {
   "display_name": "ADA",
   "language": "python",
   "name": "python3"
  },
  "language_info": {
   "codemirror_mode": {
    "name": "ipython",
    "version": 3
   },
   "file_extension": ".py",
   "mimetype": "text/x-python",
   "name": "python",
   "nbconvert_exporter": "python",
   "pygments_lexer": "ipython3",
   "version": "3.10.13"
  }
 },
 "nbformat": 4,
 "nbformat_minor": 5
}
