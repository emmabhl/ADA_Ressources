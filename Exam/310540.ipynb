{
 "cells": [
  {
   "cell_type": "markdown",
   "id": "e4fc29c0d30afb83",
   "metadata": {},
   "source": [
    "# ADA final exam (Fall 2023)\n",
    "\n",
    "This exam consists of 2 parts. Parts are independent from each other.\n",
    "\n",
    "## Dataset\n",
    "\n",
    "\n",
    "\"Friends\" is an American television sitcom that originally aired on NBC from September 22, 1994, to May 6, 2004. Created by David Crane and Marta Kauffman, the show gained immense popularity and has since become a classic in the world of television. The series is set in New York City and revolves around a group of six friends: Ross Geller (David Schwimmer), Rachel Green (Jennifer Aniston), Monica Geller (Courteney Cox), Chandler Bing (Matthew Perry), Joey Tribbiani (Matt LeBlanc), and Phoebe Buffay (Lisa Kudrow). The show explores their personal and professional lives as they navigate the ups and downs of relationships, careers, and the challenges of adulthood.\n",
    "\n",
    "In this exam, we will use a dataset containing all the conversations that occurred over 10 seasons of Friends. We refer to each row in the dataset as an 'utterance.\" The data format of the dataset is as follows\n",
    "\n",
    "- id: `<str>`, the index of the utterance in the format sAA_eBB_cCC_uDDD, where AA is the season number, BB is the episode number, CC is the scene/conversation number, and DDD is the number of the utterance in the scene (e.g. s01_e18_c05_u021).\n",
    "- speaker: `<str>`, the speaker who made the utterance, e.g. Monica Geller\n",
    "- conversation_id: `<str>`, the id of the first utterance in the conversation this utterance belongs. We assume conversations begin at the start of a new scene.\n",
    "- reply_to: `<str>`, the id of the utterance to which this utterance replies. None if the utterance is the first in a conversation.\n",
    "- text: `<str>`, the textual content of the utterance.\n"
   ]
  },
  {
   "cell_type": "code",
   "execution_count": 2,
   "id": "b039cc2f",
   "metadata": {},
   "outputs": [],
   "source": [
    "# First, let's import some required libraries!\n",
    "import statsmodels.formula.api as smf\n",
    "import pandas as pd\n",
    "from collections import Counter\n",
    "import networkx as nx\n",
    "import seaborn as sns\n",
    "import matplotlib.pyplot as plt\n",
    "import itertools\n",
    "import numpy as np\n",
    "\n",
    "import warnings\n",
    "warnings.filterwarnings('ignore')"
   ]
  },
  {
   "cell_type": "markdown",
   "id": "77be188a",
   "metadata": {},
   "source": [
    "\n",
    "## Part 1: The one where you find the protagonist (60 pts)\n",
    "\n",
    "A big debate among Friends fans is: who is the show's main character? In this task, your goal is to provide a data-driven answer to this question.\n",
    "\n",
    "\n",
    "--- \n",
    "\n",
    "**1.1 —** Load the data from the jsonl file `exam1.jsonl` into a pandas dataframe. Then\n",
    " \n",
    " A. Calculate and display the number of distinct speakers in the dataframe.\n",
    " \n",
    " B. Calculate and display the number of conversations (see `conversation_id`).\n",
    " \n",
    " C. Remove all utterances from the dataframe where the `speaker` is \"TRANSCRIPT_NOTE\" or \"#ALL#\". Print the number of rows in the dataframe.\n",
    " \n",
    " D. Create additional columns corresponding to the season (`season`, e.g., season 1 should contain `s01`) and the episode (`episode`, e.g., episode 5 of season 4 should contain `s04_e05`) of each utterance. Print the season and the episode associated with utterance `s10_e18_c11_u019`.\n",
    " \n",
    " E. Create an additional column corresponding to the length of each utterance in terms of the number of characters (`length`). Print the length associated with utterance `s10_e18_c11_u019`.\n"
   ]
  },
  {
   "cell_type": "code",
   "execution_count": 3,
   "id": "d4daa420",
   "metadata": {},
   "outputs": [
    {
     "data": {
      "text/html": [
       "<div>\n",
       "<style scoped>\n",
       "    .dataframe tbody tr th:only-of-type {\n",
       "        vertical-align: middle;\n",
       "    }\n",
       "\n",
       "    .dataframe tbody tr th {\n",
       "        vertical-align: top;\n",
       "    }\n",
       "\n",
       "    .dataframe thead th {\n",
       "        text-align: right;\n",
       "    }\n",
       "</style>\n",
       "<table border=\"1\" class=\"dataframe\">\n",
       "  <thead>\n",
       "    <tr style=\"text-align: right;\">\n",
       "      <th></th>\n",
       "      <th>id</th>\n",
       "      <th>conversation_id</th>\n",
       "      <th>text</th>\n",
       "      <th>speaker</th>\n",
       "      <th>reply-to</th>\n",
       "    </tr>\n",
       "  </thead>\n",
       "  <tbody>\n",
       "    <tr>\n",
       "      <th>0</th>\n",
       "      <td>s01_e01_c01_u001</td>\n",
       "      <td>s01_e01_c01_u001</td>\n",
       "      <td>There's nothing to tell! He's just some guy I ...</td>\n",
       "      <td>Monica Geller</td>\n",
       "      <td>None</td>\n",
       "    </tr>\n",
       "    <tr>\n",
       "      <th>1</th>\n",
       "      <td>s01_e01_c01_u002</td>\n",
       "      <td>s01_e01_c01_u001</td>\n",
       "      <td>C'mon, you're going out with the guy! There's ...</td>\n",
       "      <td>Joey Tribbiani</td>\n",
       "      <td>s01_e01_c01_u001</td>\n",
       "    </tr>\n",
       "    <tr>\n",
       "      <th>2</th>\n",
       "      <td>s01_e01_c01_u003</td>\n",
       "      <td>s01_e01_c01_u001</td>\n",
       "      <td>All right Joey, be nice. So does he have a hum...</td>\n",
       "      <td>Chandler Bing</td>\n",
       "      <td>s01_e01_c01_u002</td>\n",
       "    </tr>\n",
       "    <tr>\n",
       "      <th>3</th>\n",
       "      <td>s01_e01_c01_u004</td>\n",
       "      <td>s01_e01_c01_u001</td>\n",
       "      <td>Wait, does he eat chalk?</td>\n",
       "      <td>Phoebe Buffay</td>\n",
       "      <td>s01_e01_c01_u003</td>\n",
       "    </tr>\n",
       "    <tr>\n",
       "      <th>4</th>\n",
       "      <td>s01_e01_c01_u005</td>\n",
       "      <td>s01_e01_c01_u001</td>\n",
       "      <td></td>\n",
       "      <td>TRANSCRIPT_NOTE</td>\n",
       "      <td>s01_e01_c01_u004</td>\n",
       "    </tr>\n",
       "    <tr>\n",
       "      <th>...</th>\n",
       "      <td>...</td>\n",
       "      <td>...</td>\n",
       "      <td>...</td>\n",
       "      <td>...</td>\n",
       "      <td>...</td>\n",
       "    </tr>\n",
       "    <tr>\n",
       "      <th>67368</th>\n",
       "      <td>s10_e18_c11_u017</td>\n",
       "      <td>s10_e18_c11_u000</td>\n",
       "      <td>Oh, it's gonna be okay.</td>\n",
       "      <td>Chandler Bing</td>\n",
       "      <td>s10_e18_c11_u016</td>\n",
       "    </tr>\n",
       "    <tr>\n",
       "      <th>67369</th>\n",
       "      <td>s10_e18_c11_u018</td>\n",
       "      <td>s10_e18_c11_u000</td>\n",
       "      <td>Do you guys have to go to the new house right ...</td>\n",
       "      <td>Rachel Green</td>\n",
       "      <td>s10_e18_c11_u017</td>\n",
       "    </tr>\n",
       "    <tr>\n",
       "      <th>67370</th>\n",
       "      <td>s10_e18_c11_u019</td>\n",
       "      <td>s10_e18_c11_u000</td>\n",
       "      <td>We got some time.</td>\n",
       "      <td>Monica Geller</td>\n",
       "      <td>s10_e18_c11_u018</td>\n",
       "    </tr>\n",
       "    <tr>\n",
       "      <th>67371</th>\n",
       "      <td>s10_e18_c11_u020</td>\n",
       "      <td>s10_e18_c11_u000</td>\n",
       "      <td>Okay, should we get some coffee?</td>\n",
       "      <td>Rachel Green</td>\n",
       "      <td>s10_e18_c11_u019</td>\n",
       "    </tr>\n",
       "    <tr>\n",
       "      <th>67372</th>\n",
       "      <td>s10_e18_c11_u021</td>\n",
       "      <td>s10_e18_c11_u000</td>\n",
       "      <td>Sure. Where?</td>\n",
       "      <td>Chandler Bing</td>\n",
       "      <td>s10_e18_c11_u020</td>\n",
       "    </tr>\n",
       "  </tbody>\n",
       "</table>\n",
       "<p>67373 rows × 5 columns</p>\n",
       "</div>"
      ],
      "text/plain": [
       "                     id   conversation_id  \\\n",
       "0      s01_e01_c01_u001  s01_e01_c01_u001   \n",
       "1      s01_e01_c01_u002  s01_e01_c01_u001   \n",
       "2      s01_e01_c01_u003  s01_e01_c01_u001   \n",
       "3      s01_e01_c01_u004  s01_e01_c01_u001   \n",
       "4      s01_e01_c01_u005  s01_e01_c01_u001   \n",
       "...                 ...               ...   \n",
       "67368  s10_e18_c11_u017  s10_e18_c11_u000   \n",
       "67369  s10_e18_c11_u018  s10_e18_c11_u000   \n",
       "67370  s10_e18_c11_u019  s10_e18_c11_u000   \n",
       "67371  s10_e18_c11_u020  s10_e18_c11_u000   \n",
       "67372  s10_e18_c11_u021  s10_e18_c11_u000   \n",
       "\n",
       "                                                    text          speaker  \\\n",
       "0      There's nothing to tell! He's just some guy I ...    Monica Geller   \n",
       "1      C'mon, you're going out with the guy! There's ...   Joey Tribbiani   \n",
       "2      All right Joey, be nice. So does he have a hum...    Chandler Bing   \n",
       "3                               Wait, does he eat chalk?    Phoebe Buffay   \n",
       "4                                                         TRANSCRIPT_NOTE   \n",
       "...                                                  ...              ...   \n",
       "67368                            Oh, it's gonna be okay.    Chandler Bing   \n",
       "67369  Do you guys have to go to the new house right ...     Rachel Green   \n",
       "67370                                  We got some time.    Monica Geller   \n",
       "67371                   Okay, should we get some coffee?     Rachel Green   \n",
       "67372                                       Sure. Where?    Chandler Bing   \n",
       "\n",
       "               reply-to  \n",
       "0                  None  \n",
       "1      s01_e01_c01_u001  \n",
       "2      s01_e01_c01_u002  \n",
       "3      s01_e01_c01_u003  \n",
       "4      s01_e01_c01_u004  \n",
       "...                 ...  \n",
       "67368  s10_e18_c11_u016  \n",
       "67369  s10_e18_c11_u017  \n",
       "67370  s10_e18_c11_u018  \n",
       "67371  s10_e18_c11_u019  \n",
       "67372  s10_e18_c11_u020  \n",
       "\n",
       "[67373 rows x 5 columns]"
      ]
     },
     "execution_count": 3,
     "metadata": {},
     "output_type": "execute_result"
    }
   ],
   "source": [
    "df = pd.read_json('data/exam1.jsonl', lines=True)\n",
    "df"
   ]
  },
  {
   "cell_type": "code",
   "execution_count": 4,
   "id": "e83233f7",
   "metadata": {},
   "outputs": [
    {
     "name": "stdout",
     "output_type": "stream",
     "text": [
      "There is 700 speaker in the dataset\n",
      "There is 3107 conversation in the dataset\n"
     ]
    }
   ],
   "source": [
    "print(f'There is {df.speaker.nunique()} speaker in the dataset')\n",
    "print(f'There is {df.conversation_id.nunique()} conversation in the dataset')\n"
   ]
  },
  {
   "cell_type": "code",
   "execution_count": 5,
   "id": "fe8db953",
   "metadata": {},
   "outputs": [
    {
     "name": "stdout",
     "output_type": "stream",
     "text": [
      "There is 60985 rows in the dataset\n"
     ]
    }
   ],
   "source": [
    "df = df[~df.speaker.isin(['TRANSCRIPT_NOTE', '#ALL#'])]\n",
    "print(f'There is {len(df)} rows in the dataset')"
   ]
  },
  {
   "cell_type": "code",
   "execution_count": 6,
   "id": "d94aa921",
   "metadata": {},
   "outputs": [
    {
     "data": {
      "text/html": [
       "<div>\n",
       "<style scoped>\n",
       "    .dataframe tbody tr th:only-of-type {\n",
       "        vertical-align: middle;\n",
       "    }\n",
       "\n",
       "    .dataframe tbody tr th {\n",
       "        vertical-align: top;\n",
       "    }\n",
       "\n",
       "    .dataframe thead th {\n",
       "        text-align: right;\n",
       "    }\n",
       "</style>\n",
       "<table border=\"1\" class=\"dataframe\">\n",
       "  <thead>\n",
       "    <tr style=\"text-align: right;\">\n",
       "      <th></th>\n",
       "      <th>id</th>\n",
       "      <th>season</th>\n",
       "      <th>episode</th>\n",
       "    </tr>\n",
       "  </thead>\n",
       "  <tbody>\n",
       "    <tr>\n",
       "      <th>67370</th>\n",
       "      <td>s10_e18_c11_u019</td>\n",
       "      <td>s10</td>\n",
       "      <td>s10_e18</td>\n",
       "    </tr>\n",
       "  </tbody>\n",
       "</table>\n",
       "</div>"
      ],
      "text/plain": [
       "                     id season  episode\n",
       "67370  s10_e18_c11_u019    s10  s10_e18"
      ]
     },
     "execution_count": 6,
     "metadata": {},
     "output_type": "execute_result"
    }
   ],
   "source": [
    "df['season'] = df.id.str[:3]\n",
    "df['episode'] = df.id.str[:7]\n",
    "df[df.id == 's10_e18_c11_u019'][['id', 'season', 'episode']]"
   ]
  },
  {
   "cell_type": "code",
   "execution_count": 7,
   "id": "8a4e6f6e",
   "metadata": {},
   "outputs": [
    {
     "data": {
      "text/html": [
       "<div>\n",
       "<style scoped>\n",
       "    .dataframe tbody tr th:only-of-type {\n",
       "        vertical-align: middle;\n",
       "    }\n",
       "\n",
       "    .dataframe tbody tr th {\n",
       "        vertical-align: top;\n",
       "    }\n",
       "\n",
       "    .dataframe thead th {\n",
       "        text-align: right;\n",
       "    }\n",
       "</style>\n",
       "<table border=\"1\" class=\"dataframe\">\n",
       "  <thead>\n",
       "    <tr style=\"text-align: right;\">\n",
       "      <th></th>\n",
       "      <th>id</th>\n",
       "      <th>length</th>\n",
       "    </tr>\n",
       "  </thead>\n",
       "  <tbody>\n",
       "    <tr>\n",
       "      <th>67370</th>\n",
       "      <td>s10_e18_c11_u019</td>\n",
       "      <td>17</td>\n",
       "    </tr>\n",
       "  </tbody>\n",
       "</table>\n",
       "</div>"
      ],
      "text/plain": [
       "                     id  length\n",
       "67370  s10_e18_c11_u019      17"
      ]
     },
     "execution_count": 7,
     "metadata": {},
     "output_type": "execute_result"
    }
   ],
   "source": [
    "df['length'] = df.text.str.len()\n",
    "df[df.id == 's10_e18_c11_u019'][['id', 'length']]"
   ]
  },
  {
   "cell_type": "markdown",
   "id": "60d3bdc7",
   "metadata": {},
   "source": [
    "**1.2** Next, you conduct some basic analyses:\n",
    "\n",
    " A. With `statsmodels`, fit a linear regression `length ~ C(season, Treatment(reference=\"s01\"))`, where length is an integer and season is a categorical variable. Print the regression summary.\n",
    " \n",
    " B. /**Discuss:/** Considering the regression summary:\n",
    "   - What does the intercept in this regression represent? \n",
    "   - What does the coefficient `C(season, Treatment(reference=\"s01\"))[T.s09]` represent? \n",
    "   - Does the average utterance in season 9 contain significantly more characters than in season 1 at the 0.05 significance level? Justify with the regression summary **only**. \n",
    "   - Does the average utterance in season 10 contain significantly more characters than in season 1 at the 0.05 significance level? Justify with the regression summary  **only** .\n",
    "\n",
    " C. Argue visually (i.e., with a plot) that there are 6 main characters in the show."
   ]
  },
  {
   "cell_type": "code",
   "execution_count": 8,
   "id": "bf0b3c34",
   "metadata": {},
   "outputs": [
    {
     "name": "stdout",
     "output_type": "stream",
     "text": [
      "                            OLS Regression Results                            \n",
      "==============================================================================\n",
      "Dep. Variable:                 length   R-squared:                       0.001\n",
      "Model:                            OLS   Adj. R-squared:                  0.001\n",
      "Method:                 Least Squares   F-statistic:                     8.058\n",
      "Date:                Tue, 16 Jan 2024   Prob (F-statistic):           4.96e-12\n",
      "Time:                        18:24:58   Log-Likelihood:            -3.2981e+05\n",
      "No. Observations:               60985   AIC:                         6.596e+05\n",
      "Df Residuals:                   60975   BIC:                         6.597e+05\n",
      "Df Model:                           9                                         \n",
      "Covariance Type:            nonrobust                                         \n",
      "================================================================================================================\n",
      "                                                   coef    std err          t      P>|t|      [0.025      0.975]\n",
      "----------------------------------------------------------------------------------------------------------------\n",
      "Intercept                                       51.0190      0.704     72.464      0.000      49.639      52.399\n",
      "C(season, Treatment(reference=\"s01\"))[T.s02]     2.2764      1.004      2.268      0.023       0.309       4.243\n",
      "C(season, Treatment(reference=\"s01\"))[T.s03]     1.1906      0.974      1.222      0.222      -0.718       3.100\n",
      "C(season, Treatment(reference=\"s01\"))[T.s04]     0.6674      0.980      0.681      0.496      -1.253       2.588\n",
      "C(season, Treatment(reference=\"s01\"))[T.s05]    -0.3185      0.984     -0.324      0.746      -2.247       1.610\n",
      "C(season, Treatment(reference=\"s01\"))[T.s06]     1.9612      0.974      2.013      0.044       0.052       3.871\n",
      "C(season, Treatment(reference=\"s01\"))[T.s07]     0.3712      0.979      0.379      0.705      -1.548       2.290\n",
      "C(season, Treatment(reference=\"s01\"))[T.s08]     1.1265      0.982      1.147      0.251      -0.799       3.052\n",
      "C(season, Treatment(reference=\"s01\"))[T.s09]     6.0889      0.979      6.222      0.000       4.171       8.007\n",
      "C(season, Treatment(reference=\"s01\"))[T.s10]    -0.8470      1.026     -0.825      0.409      -2.858       1.164\n",
      "==============================================================================\n",
      "Omnibus:                    39360.499   Durbin-Watson:                   1.966\n",
      "Prob(Omnibus):                  0.000   Jarque-Bera (JB):           721113.209\n",
      "Skew:                           2.832   Prob(JB):                         0.00\n",
      "Kurtosis:                      18.865   Cond. No.                         11.1\n",
      "==============================================================================\n",
      "\n",
      "Notes:\n",
      "[1] Standard Errors assume that the covariance matrix of the errors is correctly specified.\n"
     ]
    }
   ],
   "source": [
    "res = smf.ols(data=df, formula='length ~ C(season, Treatment(reference=\"s01\"))').fit()\n",
    "print(res.summary())"
   ]
  },
  {
   "cell_type": "markdown",
   "id": "8959a30d",
   "metadata": {},
   "source": [
    " B. /**Discuss:/** Considering the regression summary:\n",
    "   - What does the intercept in this regression represent? \n",
    "   - What does the coefficient `C(season, Treatment(reference=\"s01\"))[T.s09]` represent? \n",
    "   - Does the average utterance in season 9 contain significantly more characters than in season 1 at the 0.05 significance level? Justify with the regression summary **only**. \n",
    "   - Does the average utterance in season 10 contain significantly more characters than in season 1 at the 0.05 significance level? Justify with the regression summary  **only** ."
   ]
  },
  {
   "cell_type": "markdown",
   "id": "9ea0f816",
   "metadata": {},
   "source": [
    "- The intercept corresponds to the average length of an utterance of the first season, as we use this season as reference.\n",
    "- It represents the average length difference between an utterance of season 1 (the reference) and the season 9 the treatment. We can thus know the average length of utterance of season 9 as `intercept coef + C(season, Treatment(reference=\"s01\"))[T.s09] coef`.\n",
    "- The coefficient for season 9 is positive and its associated p-value is below 0.05 therefore we can conclude that indeed the average length of an utterance in season 9 is significantly higher than one in season 1 at the 0.05 level.\n",
    "- The coefficient for season 10 is negative and its associated p-value is above 0.05 therefore we cannot conclude that there is a significant difference at the 0.05 level between the average length of an utterance in season 10 and in season 1."
   ]
  },
  {
   "cell_type": "code",
   "execution_count": 9,
   "id": "a0092bae",
   "metadata": {},
   "outputs": [
    {
     "data": {
      "image/png": "[encoded data removed]",
      "text/plain": [
       "<Figure size 640x480 with 1 Axes>"
      ]
     },
     "metadata": {},
     "output_type": "display_data"
    }
   ],
   "source": [
    "#C \n",
    "df.groupby('speaker').size().sort_values(ascending=False).plot(logx=True)\n",
    "plt.axvline(6, c='r')\n",
    "plt.title('Number of utterances of each character (values are sorted from largest to smallest number of utterances)')\n",
    "plt.ylabel('Number of utterance')\n",
    "plt.xticks(c='w')\n",
    "plt.show()"
   ]
  },
  {
   "cell_type": "code",
   "execution_count": 10,
   "id": "91a26a4f",
   "metadata": {},
   "outputs": [],
   "source": [
    "main_characters = list(df.groupby('speaker').size().sort_values(ascending=False).head(6).index)"
   ]
  },
  {
   "cell_type": "markdown",
   "id": "64998c36",
   "metadata": {},
   "source": [
    "We indeed see a clear drop in the number of utterance after the 6th wordier character."
   ]
  },
  {
   "cell_type": "markdown",
   "id": "eeb47cab",
   "metadata": {},
   "source": [
    "--- \n",
    "**1.3 —** Using `networkx` \n",
    "\n",
    "A. Create a `MultiDiGraph` (directed graph with self loops and parallel edges) where:\n",
    "- Each node $u$ is a character uniquely identified by the `speaker` field.\n",
    "- There is an edge between nodes $u$ and $v$ if $u$ replied to $v$. If an utterance (a row in the dataframe) is said in reply to nobody, then it will not correspond to an edge. Each edge should contain two attributes. Each edge should have two attributes: `season` and `episode`.\n",
    "\n",
    "B. Print the number of nodes and edges in your graph.\n",
    "\n",
    "C. **/Discuss:/** Instead of using multi-edges, what would be another way in which you could capture the number of replies associated with each node pair?\n"
   ]
  },
  {
   "cell_type": "code",
   "execution_count": 11,
   "id": "9f362612",
   "metadata": {},
   "outputs": [],
   "source": [
    "G = nx.MultiDiGraph()\n",
    "\n",
    "# Creates node attributes\n",
    "for node in df.speaker.unique():\n",
    "    G.add_node(node)\n",
    "\n",
    "# Creates edge attributes\n",
    "df_replied_speaker = pd.merge(df, df[['id', 'speaker']], how='inner', left_on='reply-to', right_on='id', suffixes=('', '_replied_to'))\n",
    "for _, edge in df_replied_speaker.iterrows():\n",
    "    edge = dict(edge)\n",
    "    if edge['speaker_replied_to'] != 'Nan':\n",
    "        G.add_edge(edge['speaker'], edge['speaker_replied_to'], season=edge['season'], episode=edge['episode'])\n"
   ]
  },
  {
   "cell_type": "code",
   "execution_count": 12,
   "id": "a041a997",
   "metadata": {},
   "outputs": [
    {
     "name": "stdout",
     "output_type": "stream",
     "text": [
      "The number of nodes in the graph is 698\n",
      "The number of edges in the graph is 54904\n"
     ]
    }
   ],
   "source": [
    "print(f'The number of nodes in the graph is {len(G.nodes)}')\n",
    "print(f'The number of edges in the graph is {len(G.edges)}')"
   ]
  },
  {
   "cell_type": "markdown",
   "id": "131bd1d3",
   "metadata": {},
   "source": [
    "C. We could also add another edge attribute refering to the number of reply a specific character as maid to the other one."
   ]
  },
  {
   "cell_type": "markdown",
   "id": "130a16f1",
   "metadata": {},
   "source": [
    "---\n",
    "With the graph ready, you set out to investigate who is the true protagonist of Friends.\n",
    "\n",
    "Ignore the graph you generated previously and instead use the graph provided in `exam2.graphml`. Note that this graph may be slightly different from what you generated, but treat it as the ground truth. We provide you with code to load the graph below.\n"
   ]
  },
  {
   "cell_type": "code",
   "execution_count": 13,
   "id": "a917d360",
   "metadata": {},
   "outputs": [],
   "source": [
    "import networkx as nx\n",
    "\n",
    "G = nx.read_graphml(\"./data/exam2.graphml\")"
   ]
  },
  {
   "cell_type": "markdown",
   "id": "6ad04b50",
   "metadata": {},
   "source": [
    "---"
   ]
  },
  {
   "cell_type": "markdown",
   "id": "53ee10e7",
   "metadata": {},
   "source": [
    "**1.4 —** Using the provided MultiDiGraph $G$:\n",
    "\n",
    "A. Calculate the out-degree of each node (also known as out-degree centrality). Please do not use the `nx.out_degree_centrality` function here, as it normalizes the degree. (E.g., if a node has 5 outgoing edges, it should have out-degree 5 according to your code.)\n",
    "\n",
    "B. Calculate the PageRank centrality of each node in $G$. Use the default parameters.\n",
    "\n",
    "C. Print both centrality metrics calculated above for the six main characters of Friends.\n",
    "\n",
    "D. **/Discuss:/** According to the metrics, who is the most important character in Friends?"
   ]
  },
  {
   "cell_type": "code",
   "execution_count": 14,
   "id": "aa8407dd",
   "metadata": {},
   "outputs": [],
   "source": [
    "out_degrees = pd.DataFrame(G.out_degree)\n",
    "pagerank = pd.Series(nx.pagerank(G))"
   ]
  },
  {
   "cell_type": "code",
   "execution_count": 15,
   "id": "4e252673",
   "metadata": {},
   "outputs": [
    {
     "name": "stdout",
     "output_type": "stream",
     "text": [
      "Out degree centrality of the 6 main character : \n"
     ]
    },
    {
     "data": {
      "text/html": [
       "<div>\n",
       "<style scoped>\n",
       "    .dataframe tbody tr th:only-of-type {\n",
       "        vertical-align: middle;\n",
       "    }\n",
       "\n",
       "    .dataframe tbody tr th {\n",
       "        vertical-align: top;\n",
       "    }\n",
       "\n",
       "    .dataframe thead th {\n",
       "        text-align: right;\n",
       "    }\n",
       "</style>\n",
       "<table border=\"1\" class=\"dataframe\">\n",
       "  <thead>\n",
       "    <tr style=\"text-align: right;\">\n",
       "      <th></th>\n",
       "      <th>0</th>\n",
       "      <th>1</th>\n",
       "    </tr>\n",
       "  </thead>\n",
       "  <tbody>\n",
       "    <tr>\n",
       "      <th>5</th>\n",
       "      <td>Rachel Green</td>\n",
       "      <td>8470</td>\n",
       "    </tr>\n",
       "    <tr>\n",
       "      <th>4</th>\n",
       "      <td>Ross Geller</td>\n",
       "      <td>8234</td>\n",
       "    </tr>\n",
       "    <tr>\n",
       "      <th>2</th>\n",
       "      <td>Chandler Bing</td>\n",
       "      <td>7702</td>\n",
       "    </tr>\n",
       "    <tr>\n",
       "      <th>1</th>\n",
       "      <td>Monica Geller</td>\n",
       "      <td>7621</td>\n",
       "    </tr>\n",
       "    <tr>\n",
       "      <th>0</th>\n",
       "      <td>Joey Tribbiani</td>\n",
       "      <td>7395</td>\n",
       "    </tr>\n",
       "    <tr>\n",
       "      <th>3</th>\n",
       "      <td>Phoebe Buffay</td>\n",
       "      <td>6797</td>\n",
       "    </tr>\n",
       "  </tbody>\n",
       "</table>\n",
       "</div>"
      ],
      "text/plain": [
       "                0     1\n",
       "5    Rachel Green  8470\n",
       "4     Ross Geller  8234\n",
       "2   Chandler Bing  7702\n",
       "1   Monica Geller  7621\n",
       "0  Joey Tribbiani  7395\n",
       "3   Phoebe Buffay  6797"
      ]
     },
     "metadata": {},
     "output_type": "display_data"
    },
    {
     "name": "stdout",
     "output_type": "stream",
     "text": [
      "Page rank centrality of the 6 main character : \n"
     ]
    },
    {
     "data": {
      "text/html": [
       "<div>\n",
       "<style scoped>\n",
       "    .dataframe tbody tr th:only-of-type {\n",
       "        vertical-align: middle;\n",
       "    }\n",
       "\n",
       "    .dataframe tbody tr th {\n",
       "        vertical-align: top;\n",
       "    }\n",
       "\n",
       "    .dataframe thead th {\n",
       "        text-align: right;\n",
       "    }\n",
       "</style>\n",
       "<table border=\"1\" class=\"dataframe\">\n",
       "  <thead>\n",
       "    <tr style=\"text-align: right;\">\n",
       "      <th></th>\n",
       "      <th>0</th>\n",
       "    </tr>\n",
       "  </thead>\n",
       "  <tbody>\n",
       "    <tr>\n",
       "      <th>Rachel Green</th>\n",
       "      <td>0.126843</td>\n",
       "    </tr>\n",
       "    <tr>\n",
       "      <th>Ross Geller</th>\n",
       "      <td>0.125611</td>\n",
       "    </tr>\n",
       "    <tr>\n",
       "      <th>Chandler Bing</th>\n",
       "      <td>0.114535</td>\n",
       "    </tr>\n",
       "    <tr>\n",
       "      <th>Monica Geller</th>\n",
       "      <td>0.113450</td>\n",
       "    </tr>\n",
       "    <tr>\n",
       "      <th>Joey Tribbiani</th>\n",
       "      <td>0.112835</td>\n",
       "    </tr>\n",
       "    <tr>\n",
       "      <th>Phoebe Buffay</th>\n",
       "      <td>0.102069</td>\n",
       "    </tr>\n",
       "  </tbody>\n",
       "</table>\n",
       "</div>"
      ],
      "text/plain": [
       "                       0\n",
       "Rachel Green    0.126843\n",
       "Ross Geller     0.125611\n",
       "Chandler Bing   0.114535\n",
       "Monica Geller   0.113450\n",
       "Joey Tribbiani  0.112835\n",
       "Phoebe Buffay   0.102069"
      ]
     },
     "metadata": {},
     "output_type": "display_data"
    }
   ],
   "source": [
    "print('Out degree centrality of the 6 main character : ')\n",
    "display(out_degrees.sort_values(by=1, ascending=False).head(6))\n",
    "print('Page rank centrality of the 6 main character : ')\n",
    "display(pd.DataFrame(pagerank.sort_values(ascending=False).head(6)))"
   ]
  },
  {
   "cell_type": "markdown",
   "id": "96231f87",
   "metadata": {},
   "source": [
    "D. Rachel Green have the highest score for both metrics so its seems like she might be the main character of the series if we only consider these metrics."
   ]
  },
  {
   "cell_type": "markdown",
   "id": "fe9f1601",
   "metadata": {},
   "source": [
    "---\n",
    "\n",
    "**1.5 —** **/True or false:/** Considering your answer in **1.4**, are the following statements true or false? Justify your answers. \n",
    "\n",
    "A. \"If we inverted all  edges in the graph such that an edge $(u,v)$ becomes an edge $(v,u)$, the PageRank centrality would remain unchanged.\"\n",
    "\n",
    "B. \"If we removed all outgoing edges from Rachel Green, her PageRank centrality would remain unchanged.\"\n",
    "\n",
    "C. \"If a new node was introduced in the graph, with 1,000 outgoing edges towards each other node, but no incoming edge, it would have the highest PageRank centrality.\"\n"
   ]
  },
  {
   "cell_type": "markdown",
   "id": "2e99349c",
   "metadata": {},
   "source": [
    "A. False. To have a high Page Rank centrality as node should receive edges from a lot of other central nodes therefore we consider mainly the in degree of nodes and the direction the edge are thus important.\n",
    "\n",
    "B. False. Even if the out degree of a node is not directly taken into account to measure the centrality of a node, it indirectly influe on the page rank centrality of the node that themself send inlinks to the node we consider. Thus Rachel Green participate and increases the score of centrality of speakers that then participate and increase back the page rank centrality of Rachel Green.\n",
    "\n",
    "C. False. If it as no incoming edges then it as a 0 page rank centrality.\n"
   ]
  },
  {
   "cell_type": "markdown",
   "id": "6e47355c",
   "metadata": {},
   "source": [
    "---\n",
    "\n",
    "**1.6 —** Next, you consider how these centrality metrics vary over the course of the seasons.\n",
    "\n",
    "A. Calculate the PageRank and out-degree centrality of the 6 main characters per episode, i.e., for each episode, create a graph containing only the utterances of that episode and calculate the PageRank centrality for this new graph. Print the PageRank and the out-degree of Rachel Green for the first episode of the first season.\n",
    "\n",
    "B. Considering the episode-level out-degree centrality of Phoebe Buffay in season 1 and in season 10, print the mean and the standard error of the mean.\n",
    "\n",
    "C. Create a single plot with 10 inches of width and 4 inches of height. The plot should contain two panels, containing the average PageRank centrality per season of Rachel Green and Ross Geller (Panel A), and the average out-degree per season of Rachel Green and Ross Geller (Panel B). Show 95% confidence intervals in your plot (calculated over the episodes in each season).\n",
    "\n",
    "D. **/Discuss:/** Does the plot support the hypothesis that Rachel was the show's protagonist in all 10 seasons? Explain why."
   ]
  },
  {
   "cell_type": "code",
   "execution_count": 16,
   "id": "4e09a998",
   "metadata": {},
   "outputs": [],
   "source": [
    "out_degrees = {}\n",
    "pagerank = {}\n",
    "for episode in df.episode.unique():\n",
    "\n",
    "    edges_per_episode = [i for i, v in nx.get_edge_attributes(G, \"episode\").items() if v == episode]\n",
    "    G_episode = G.edge_subgraph(edges_per_episode)\n",
    "    tmp1 = pd.DataFrame(G_episode.out_degree).set_index(0)\n",
    "    tmp2 = pd.Series(nx.pagerank(G_episode))\n",
    "\n",
    "    out_degrees[episode] = tmp1.loc[main_characters]\n",
    "    pagerank[episode] = tmp2.loc[main_characters]"
   ]
  },
  {
   "cell_type": "code",
   "execution_count": 17,
   "id": "c13d2b6a",
   "metadata": {},
   "outputs": [],
   "source": [
    "out_degrees = pd.concat(out_degrees, axis=1).droplevel(1, axis=1)\n",
    "pagerank = pd.DataFrame(*[pagerank])"
   ]
  },
  {
   "cell_type": "code",
   "execution_count": 18,
   "id": "7504e512",
   "metadata": {},
   "outputs": [
    {
     "name": "stdout",
     "output_type": "stream",
     "text": [
      "Mean of out degree centrality of Phoebe Buffay for episode 1 : 23.333\n",
      "Std of out degree centrality of Phoebe Buffay for episode 1 : 2.201\n",
      "Mean of out degree centrality of Phoebe Buffay for episode 10 : 36.944\n",
      "Std of out degree centrality of Phoebe Buffay for episode 10 : 2.809\n"
     ]
    }
   ],
   "source": [
    "print(f'Mean of out degree centrality of Phoebe Buffay for episode 1 : {out_degrees.loc[\"Phoebe Buffay\", out_degrees.columns.str.contains(\"s01\")].mean():.3f}')\n",
    "print(f'Std of out degree centrality of Phoebe Buffay for episode 1 : {out_degrees.loc[\"Phoebe Buffay\", out_degrees.columns.str.contains(\"s01\")].sem():.3f}')\n",
    "print(f'Mean of out degree centrality of Phoebe Buffay for episode 10 : {out_degrees.loc[\"Phoebe Buffay\", out_degrees.columns.str.contains(\"s10\")].mean():.3f}')\n",
    "print(f'Std of out degree centrality of Phoebe Buffay for episode 10 : {out_degrees.loc[\"Phoebe Buffay\", out_degrees.columns.str.contains(\"s10\")].sem():.3f}')"
   ]
  },
  {
   "cell_type": "markdown",
   "id": "be0298aa",
   "metadata": {},
   "source": [
    "C. Create a single plot with 10 inches of width and 4 inches of height. The plot should contain two panels, containing the average PageRank centrality per season of Rachel Green and Ross Geller (Panel A), and the average out-degree per season of Rachel Green and Ross Geller (Panel B). Show 95% confidence intervals in your plot (calculated over the episodes in each season).\n",
    "\n",
    "D. **/Discuss:/** Does the plot support the hypothesis that Rachel was the show's protagonist in all 10 seasons? Explain why."
   ]
  },
  {
   "cell_type": "code",
   "execution_count": 24,
   "id": "cb19f6b9",
   "metadata": {},
   "outputs": [
    {
     "data": {
      "text/plain": [
       "<matplotlib.legend.Legend at 0x7fcb3c334f10>"
      ]
     },
     "execution_count": 24,
     "metadata": {},
     "output_type": "execute_result"
    },
    {
     "data": {
      "image/png": "[encoded data removed]",
      "text/plain": [
       "<Figure size 1000x400 with 2 Axes>"
      ]
     },
     "metadata": {},
     "output_type": "display_data"
    }
   ],
   "source": [
    "fig, ax= plt.subplots(1, 2, figsize=(10, 4))\n",
    "\n",
    "seasons = ['s01', 's02', 's03', 's04', 's05', 's06', 's07', 's08', 's09', 's10']\n",
    "\n",
    "Rachel_Green_od = pd.Series()\n",
    "Ross_Geller_od = pd.Series()\n",
    "Rachel_Green_pr = pd.Series()\n",
    "Ross_Geller_pr = pd.Series()\n",
    "\n",
    "for season in seasons:\n",
    "    Rachel_Green_od.loc[season] = out_degrees.loc[\"Rachel Green\", out_degrees.columns.str.contains(season)].mean()\n",
    "    Ross_Geller_od.loc[season] = out_degrees.loc[\"Ross Geller\", out_degrees.columns.str.contains(season)].mean()\n",
    "    Rachel_Green_pr.loc[season] = pagerank.loc[\"Rachel Green\", pagerank.columns.str.contains(season)].mean()\n",
    "    Ross_Geller_pr.loc[season] = pagerank.loc[\"Ross Geller\", pagerank.columns.str.contains(season)].mean()\n",
    "\n",
    "ax[0].plot(np.arange(1,11), Rachel_Green_od.values, label='Rachel')\n",
    "ax[0].plot(np.arange(1,11), Ross_Geller_od.values, label='Ross')\n",
    "ax[1].plot(np.arange(1,11), Rachel_Green_pr.values, label='Rachel')\n",
    "ax[1].plot(np.arange(1,11), Ross_Geller_pr.values, label='Ross')\n",
    "\n",
    "ax[0].set_title('Out degree')\n",
    "ax[1].set_title('Page rank')\n",
    "\n",
    "ax[0].set_xlabel('season')\n",
    "ax[1].set_xlabel('season')\n",
    "\n",
    "ax[0].legend()\n",
    "ax[1].legend()\n",
    "\n",
    "\n",
    "\n"
   ]
  },
  {
   "cell_type": "markdown",
   "id": "94b0e5b3",
   "metadata": {},
   "source": [
    "---\n",
    "\n",
    "**1.7 —** **/True or false:/** Considering your answer in **1.6** are the following statements true or false? Justify your answer. \n",
    "\n",
    "\n",
    "A. \"In season 7, Rachel Green's episode-level PageRank and out-degree centrality are higher than Ross Geller's. This difference is statistically significant at the 0.05 significance level.\"\n",
    "\n",
    "B. \"Phoebe Buffay's out-degree grew between season 1 and season 10; this implies that other characters spoke less than her in season 10.\"\n",
    "\n",
    "C. \"Phoebe Buffay's PageRank was higher in season 10 than in season 1. This difference is statistically significant at the 0.05 significance level and suggests that the character gained importance over the course of the show.\"\n"
   ]
  },
  {
   "cell_type": "code",
   "execution_count": null,
   "id": "87e48217",
   "metadata": {},
   "outputs": [],
   "source": []
  },
  {
   "cell_type": "markdown",
   "id": "84866967",
   "metadata": {},
   "source": [
    "## Part 2: The one about text similarity (40 pts)\n",
    "\n",
    "Next, you investigate how unique characters are by analyzing what they said throughout the 10 seasons."
   ]
  },
  {
   "cell_type": "markdown",
   "id": "176a69b8",
   "metadata": {},
   "source": [
    "**2.1 —** Load the dataframe `exam3.jsonl`. This dataframe is similar to `exam1.jsonl`, except:\n",
    "\n",
    "- It has an additional column called `tokens`, containing a sentence list. Each sentence is another list composed of tokens, e.g.,\n",
    "`[['There', \"'s\", 'nothing', 'to', 'tell', '!'], ['He', \"'s\", 'just', 'some', 'guy', 'I', 'work', 'with', '!']]`.\n",
    "- It has an additional column called `episode` containing a unique episode identifier.\n",
    "- It only contains utterances by Phoebe, Rachel, Ross, Joey, Monica, or Chandler (the main characters).\n",
    " \n",
    "Given this dataframe, you will create an episode-level word-frequency matrix for Chandler Bing, one of the main characters.\n",
    "\n",
    "A. Create a list $L$ containing all distinct tokens uttered by Chandler Bing throughout the 10 seasons, sorted in ascending order. Print the 10 first and last elements of the list. \n",
    "\n",
    "B. Create a matrix $X$ with $m$ rows and $n$ columns, where: $n$ is the number of tokens in the list $L$ that you just created, and $m$ is the number of episodes (236). Each position $X_{i,j}$ in this matrix should contain the number of times the character uttered the word $j$ in episode $i$. Print how many times Chandler uttered the token `joey` in the first episode of the first season, as well as the shape of the matrix $X$.\n",
    "\n",
    "C. Transform the matrix $X$ into a TF-IDF matrix $T$, combining the following formula (as seen in class):\n",
    "\n",
    "$$\\text{TF}(i,j) = \\text{number of times the $j$-th word occurs in the $i$-th episode}$$\n",
    "\n",
    "$$\\text{IDF}(j) =  \\log \\frac{\\text{number of episodes}}{\\text{number of episodes in which the $j$-th word occurs}}$$\n",
    "\n",
    "Print the value in the TF-IDF matrix corresponding to Chandler's utterance of the token `joey` in the first episode of the first season.\n",
    "\n",
    "D. **/Discuss:/** Some of the tokens (e.g., `joey`) reference other characters. How may these tokens help a classifier predict which character uttered a sentence?"
   ]
  },
  {
   "cell_type": "code",
   "execution_count": 173,
   "id": "2e951338",
   "metadata": {},
   "outputs": [
    {
     "data": {
      "text/html": [
       "<div>\n",
       "<style scoped>\n",
       "    .dataframe tbody tr th:only-of-type {\n",
       "        vertical-align: middle;\n",
       "    }\n",
       "\n",
       "    .dataframe tbody tr th {\n",
       "        vertical-align: top;\n",
       "    }\n",
       "\n",
       "    .dataframe thead th {\n",
       "        text-align: right;\n",
       "    }\n",
       "</style>\n",
       "<table border=\"1\" class=\"dataframe\">\n",
       "  <thead>\n",
       "    <tr style=\"text-align: right;\">\n",
       "      <th></th>\n",
       "      <th>id</th>\n",
       "      <th>conversation_id</th>\n",
       "      <th>text</th>\n",
       "      <th>speaker</th>\n",
       "      <th>reply-to</th>\n",
       "      <th>tokens</th>\n",
       "      <th>episode</th>\n",
       "    </tr>\n",
       "  </thead>\n",
       "  <tbody>\n",
       "    <tr>\n",
       "      <th>0</th>\n",
       "      <td>s01_e01_c01_u001</td>\n",
       "      <td>s01_e01_c01_u001</td>\n",
       "      <td>There's nothing to tell! He's just some guy I ...</td>\n",
       "      <td>Monica Geller</td>\n",
       "      <td>None</td>\n",
       "      <td>[[there, 's, nothing, to, tell, !], [he, 's, j...</td>\n",
       "      <td>s01_e01</td>\n",
       "    </tr>\n",
       "    <tr>\n",
       "      <th>1</th>\n",
       "      <td>s01_e01_c01_u002</td>\n",
       "      <td>s01_e01_c01_u001</td>\n",
       "      <td>C'mon, you're going out with the guy! There's ...</td>\n",
       "      <td>Joey Tribbiani</td>\n",
       "      <td>s01_e01_c01_u001</td>\n",
       "      <td>[[c'mon, ,, you, 're, going, out, with, the, g...</td>\n",
       "      <td>s01_e01</td>\n",
       "    </tr>\n",
       "    <tr>\n",
       "      <th>2</th>\n",
       "      <td>s01_e01_c01_u003</td>\n",
       "      <td>s01_e01_c01_u001</td>\n",
       "      <td>All right Joey, be nice. So does he have a hum...</td>\n",
       "      <td>Chandler Bing</td>\n",
       "      <td>s01_e01_c01_u002</td>\n",
       "      <td>[[all, right, joey, ,, be, nice, .], [so, does...</td>\n",
       "      <td>s01_e01</td>\n",
       "    </tr>\n",
       "    <tr>\n",
       "      <th>3</th>\n",
       "      <td>s01_e01_c01_u004</td>\n",
       "      <td>s01_e01_c01_u001</td>\n",
       "      <td>Wait, does he eat chalk?</td>\n",
       "      <td>Phoebe Buffay</td>\n",
       "      <td>s01_e01_c01_u003</td>\n",
       "      <td>[[wait, ,, does, he, eat, chalk, ?]]</td>\n",
       "      <td>s01_e01</td>\n",
       "    </tr>\n",
       "    <tr>\n",
       "      <th>4</th>\n",
       "      <td>s01_e01_c01_u006</td>\n",
       "      <td>s01_e01_c01_u001</td>\n",
       "      <td>Just, 'cause, I don't want her to go through w...</td>\n",
       "      <td>Phoebe Buffay</td>\n",
       "      <td>s01_e01_c01_u005</td>\n",
       "      <td>[[just, ,, ', cause, ,, i, do, n't, want, her,...</td>\n",
       "      <td>s01_e01</td>\n",
       "    </tr>\n",
       "    <tr>\n",
       "      <th>...</th>\n",
       "      <td>...</td>\n",
       "      <td>...</td>\n",
       "      <td>...</td>\n",
       "      <td>...</td>\n",
       "      <td>...</td>\n",
       "      <td>...</td>\n",
       "      <td>...</td>\n",
       "    </tr>\n",
       "    <tr>\n",
       "      <th>51307</th>\n",
       "      <td>s10_e18_c11_u017</td>\n",
       "      <td>s10_e18_c11_u000</td>\n",
       "      <td>Oh, it's gonna be okay.</td>\n",
       "      <td>Chandler Bing</td>\n",
       "      <td>s10_e18_c11_u016</td>\n",
       "      <td>[[oh, ,, it, 's, gon, na, be, okay, .]]</td>\n",
       "      <td>s10_e18</td>\n",
       "    </tr>\n",
       "    <tr>\n",
       "      <th>51308</th>\n",
       "      <td>s10_e18_c11_u018</td>\n",
       "      <td>s10_e18_c11_u000</td>\n",
       "      <td>Do you guys have to go to the new house right ...</td>\n",
       "      <td>Rachel Green</td>\n",
       "      <td>s10_e18_c11_u017</td>\n",
       "      <td>[[do, you, guys, have, to, go, to, the, new, h...</td>\n",
       "      <td>s10_e18</td>\n",
       "    </tr>\n",
       "    <tr>\n",
       "      <th>51309</th>\n",
       "      <td>s10_e18_c11_u019</td>\n",
       "      <td>s10_e18_c11_u000</td>\n",
       "      <td>We got some time.</td>\n",
       "      <td>Monica Geller</td>\n",
       "      <td>s10_e18_c11_u018</td>\n",
       "      <td>[[we, got, some, time, .]]</td>\n",
       "      <td>s10_e18</td>\n",
       "    </tr>\n",
       "    <tr>\n",
       "      <th>51310</th>\n",
       "      <td>s10_e18_c11_u020</td>\n",
       "      <td>s10_e18_c11_u000</td>\n",
       "      <td>Okay, should we get some coffee?</td>\n",
       "      <td>Rachel Green</td>\n",
       "      <td>s10_e18_c11_u019</td>\n",
       "      <td>[[okay, ,, should, we, get, some, coffee, ?]]</td>\n",
       "      <td>s10_e18</td>\n",
       "    </tr>\n",
       "    <tr>\n",
       "      <th>51311</th>\n",
       "      <td>s10_e18_c11_u021</td>\n",
       "      <td>s10_e18_c11_u000</td>\n",
       "      <td>Sure. Where?</td>\n",
       "      <td>Chandler Bing</td>\n",
       "      <td>s10_e18_c11_u020</td>\n",
       "      <td>[[sure, .], [where, ?]]</td>\n",
       "      <td>s10_e18</td>\n",
       "    </tr>\n",
       "  </tbody>\n",
       "</table>\n",
       "<p>51312 rows × 7 columns</p>\n",
       "</div>"
      ],
      "text/plain": [
       "                     id   conversation_id  \\\n",
       "0      s01_e01_c01_u001  s01_e01_c01_u001   \n",
       "1      s01_e01_c01_u002  s01_e01_c01_u001   \n",
       "2      s01_e01_c01_u003  s01_e01_c01_u001   \n",
       "3      s01_e01_c01_u004  s01_e01_c01_u001   \n",
       "4      s01_e01_c01_u006  s01_e01_c01_u001   \n",
       "...                 ...               ...   \n",
       "51307  s10_e18_c11_u017  s10_e18_c11_u000   \n",
       "51308  s10_e18_c11_u018  s10_e18_c11_u000   \n",
       "51309  s10_e18_c11_u019  s10_e18_c11_u000   \n",
       "51310  s10_e18_c11_u020  s10_e18_c11_u000   \n",
       "51311  s10_e18_c11_u021  s10_e18_c11_u000   \n",
       "\n",
       "                                                    text         speaker  \\\n",
       "0      There's nothing to tell! He's just some guy I ...   Monica Geller   \n",
       "1      C'mon, you're going out with the guy! There's ...  Joey Tribbiani   \n",
       "2      All right Joey, be nice. So does he have a hum...   Chandler Bing   \n",
       "3                               Wait, does he eat chalk?   Phoebe Buffay   \n",
       "4      Just, 'cause, I don't want her to go through w...   Phoebe Buffay   \n",
       "...                                                  ...             ...   \n",
       "51307                            Oh, it's gonna be okay.   Chandler Bing   \n",
       "51308  Do you guys have to go to the new house right ...    Rachel Green   \n",
       "51309                                  We got some time.   Monica Geller   \n",
       "51310                   Okay, should we get some coffee?    Rachel Green   \n",
       "51311                                       Sure. Where?   Chandler Bing   \n",
       "\n",
       "               reply-to                                             tokens  \\\n",
       "0                  None  [[there, 's, nothing, to, tell, !], [he, 's, j...   \n",
       "1      s01_e01_c01_u001  [[c'mon, ,, you, 're, going, out, with, the, g...   \n",
       "2      s01_e01_c01_u002  [[all, right, joey, ,, be, nice, .], [so, does...   \n",
       "3      s01_e01_c01_u003               [[wait, ,, does, he, eat, chalk, ?]]   \n",
       "4      s01_e01_c01_u005  [[just, ,, ', cause, ,, i, do, n't, want, her,...   \n",
       "...                 ...                                                ...   \n",
       "51307  s10_e18_c11_u016            [[oh, ,, it, 's, gon, na, be, okay, .]]   \n",
       "51308  s10_e18_c11_u017  [[do, you, guys, have, to, go, to, the, new, h...   \n",
       "51309  s10_e18_c11_u018                         [[we, got, some, time, .]]   \n",
       "51310  s10_e18_c11_u019      [[okay, ,, should, we, get, some, coffee, ?]]   \n",
       "51311  s10_e18_c11_u020                            [[sure, .], [where, ?]]   \n",
       "\n",
       "       episode  \n",
       "0      s01_e01  \n",
       "1      s01_e01  \n",
       "2      s01_e01  \n",
       "3      s01_e01  \n",
       "4      s01_e01  \n",
       "...        ...  \n",
       "51307  s10_e18  \n",
       "51308  s10_e18  \n",
       "51309  s10_e18  \n",
       "51310  s10_e18  \n",
       "51311  s10_e18  \n",
       "\n",
       "[51312 rows x 7 columns]"
      ]
     },
     "execution_count": 173,
     "metadata": {},
     "output_type": "execute_result"
    }
   ],
   "source": [
    "df3 = pd.read_json('data/exam3.jsonl', lines=True)\n",
    "df3"
   ]
  },
  {
   "cell_type": "code",
   "execution_count": 188,
   "id": "7f71deb0",
   "metadata": {},
   "outputs": [
    {
     "name": "stdout",
     "output_type": "stream",
     "text": [
      "10 first elements of the list: \n",
      "['!' '!!' '!!!' '!!!!' '!!!!!' '!!!!!!!' '!..' '!...' '!?' '\"']\n",
      "10 last elements of the list: \n",
      "['yummy' 'yup' 'zack' 'zero' 'zip' 'zone' 'zoo' 'zorps' '{' '}']\n"
     ]
    }
   ],
   "source": [
    "L = df3[df3.speaker == 'Chandler Bing'].tokens.explode().explode().unique()\n",
    "L.sort()\n",
    "print('10 first elements of the list: ')\n",
    "print(L[:10])\n",
    "print('10 last elements of the list: ')\n",
    "print(L[-10:])"
   ]
  },
  {
   "cell_type": "code",
   "execution_count": 212,
   "id": "89bb6f7a",
   "metadata": {},
   "outputs": [],
   "source": [
    "from collections import Counter\n",
    "def token_count(line, L=L):\n",
    "    line = [x for xs in line for x in xs]\n",
    "    c = Counter(line)\n",
    "    return pd.Series([c.get(v) for v in L])\n",
    "X = df3[df3.speaker == 'Chandler Bing'].tokens.apply(token_count)"
   ]
  },
  {
   "cell_type": "code",
   "execution_count": 218,
   "id": "694be7b7",
   "metadata": {},
   "outputs": [],
   "source": [
    "X = X.join(df3.episode, how='left').groupby('episode').sum()"
   ]
  },
  {
   "cell_type": "code",
   "execution_count": 233,
   "id": "16875277",
   "metadata": {},
   "outputs": [
    {
     "name": "stdout",
     "output_type": "stream",
     "text": [
      "Shape of X : (236, 6063)\n",
      "Number of times Chandler uttered the token `joey` in the first episode of the first season : 1\n"
     ]
    }
   ],
   "source": [
    "print(f'Shape of X : {X.shape}')\n",
    "print(f'Number of times Chandler uttered the token `joey` in the first episode of the first season : {int(X.loc[\"s01_e01\"][np.argwhere(L == \"joey\")[0]].values[0])}')"
   ]
  },
  {
   "cell_type": "code",
   "execution_count": 243,
   "id": "bc781d3b",
   "metadata": {},
   "outputs": [
    {
     "name": "stdout",
     "output_type": "stream",
     "text": [
      "TF-IDF value for Chandler uttered the token `joey` in the first episode of the first season : 3\n"
     ]
    }
   ],
   "source": [
    "TF_IDF = X * np.log(X.shape[1]/((X > 0).sum(axis=0) + 1))\n",
    "print(f'TF-IDF value for Chandler uttered the token `joey` in the first episode of the first season : {int(TF_IDF.loc[\"s01_e01\"][np.argwhere(L == \"joey\")[0]].values[0])}')"
   ]
  },
  {
   "cell_type": "markdown",
   "id": "0add31b0",
   "metadata": {},
   "source": [
    "D. **/Discuss:/** Some of the tokens (e.g., `joey`) reference other characters. How may these tokens help a classifier predict which character uttered a sentence?"
   ]
  },
  {
   "cell_type": "markdown",
   "id": "0b7eb1a2",
   "metadata": {},
   "source": [
    "First, the model may understand that when a character say a name then it is not this character that is speaking so it remove one possibility. Second, if a character tend to speak more to one specific other character then it will also help the model to know which was the character talking just based on the relationship between the subjects."
   ]
  },
  {
   "cell_type": "markdown",
   "id": "9b691ae5",
   "metadata": {},
   "source": [
    "---\n",
    "For the remainder of the task, you will use the TF-IDF matrix that we compute below. Note:\n",
    "- This matrix was calculated in a slightly different way: it considers only the 1000 tokens with the highest term frequency.\n",
    "- We provide three useful variables below (`X`, `y`, and `df_tfidf`). \n",
    "    - `X` is a matrix containing the TF-IDF values for the top 1000 tokens, where each row corresponds to a character in an episode. \n",
    "    - `y` indicates which character is responsible for the utterance. Each character has a corresponding number, e.g., 2 for Monica Geller; see dictionary below. \n",
    "    - `df_tfidf` is a dataframe combining `X` with other episode and utterance-level metadata."
   ]
  },
  {
   "cell_type": "code",
   "execution_count": 245,
   "id": "6e0aebac",
   "metadata": {},
   "outputs": [
    {
     "name": "stdout",
     "output_type": "stream",
     "text": [
      "X shape (51312, 1000)\n",
      "y shape (51312,)\n"
     ]
    },
    {
     "data": {
      "text/html": [
       "<div>\n",
       "<style scoped>\n",
       "    .dataframe tbody tr th:only-of-type {\n",
       "        vertical-align: middle;\n",
       "    }\n",
       "\n",
       "    .dataframe tbody tr th {\n",
       "        vertical-align: top;\n",
       "    }\n",
       "\n",
       "    .dataframe thead th {\n",
       "        text-align: right;\n",
       "    }\n",
       "</style>\n",
       "<table border=\"1\" class=\"dataframe\">\n",
       "  <thead>\n",
       "    <tr style=\"text-align: right;\">\n",
       "      <th></th>\n",
       "      <th>speaker</th>\n",
       "      <th>episode</th>\n",
       "      <th>0</th>\n",
       "      <th>1</th>\n",
       "      <th>2</th>\n",
       "      <th>3</th>\n",
       "      <th>4</th>\n",
       "      <th>5</th>\n",
       "      <th>6</th>\n",
       "      <th>7</th>\n",
       "      <th>...</th>\n",
       "      <th>990</th>\n",
       "      <th>991</th>\n",
       "      <th>992</th>\n",
       "      <th>993</th>\n",
       "      <th>994</th>\n",
       "      <th>995</th>\n",
       "      <th>996</th>\n",
       "      <th>997</th>\n",
       "      <th>998</th>\n",
       "      <th>999</th>\n",
       "    </tr>\n",
       "  </thead>\n",
       "  <tbody>\n",
       "    <tr>\n",
       "      <th>0</th>\n",
       "      <td>Monica Geller</td>\n",
       "      <td>s01_e01</td>\n",
       "      <td>0.0</td>\n",
       "      <td>0.0</td>\n",
       "      <td>0.0</td>\n",
       "      <td>0.0</td>\n",
       "      <td>0.0</td>\n",
       "      <td>0.0</td>\n",
       "      <td>0.0</td>\n",
       "      <td>0.0</td>\n",
       "      <td>...</td>\n",
       "      <td>0.0</td>\n",
       "      <td>0.0</td>\n",
       "      <td>0.0</td>\n",
       "      <td>0.0</td>\n",
       "      <td>0.0</td>\n",
       "      <td>0.0</td>\n",
       "      <td>0.0</td>\n",
       "      <td>0.0</td>\n",
       "      <td>0.0</td>\n",
       "      <td>0.0</td>\n",
       "    </tr>\n",
       "    <tr>\n",
       "      <th>1</th>\n",
       "      <td>Joey Tribbiani</td>\n",
       "      <td>s01_e01</td>\n",
       "      <td>0.0</td>\n",
       "      <td>0.0</td>\n",
       "      <td>0.0</td>\n",
       "      <td>0.0</td>\n",
       "      <td>0.0</td>\n",
       "      <td>0.0</td>\n",
       "      <td>0.0</td>\n",
       "      <td>0.0</td>\n",
       "      <td>...</td>\n",
       "      <td>0.0</td>\n",
       "      <td>0.0</td>\n",
       "      <td>0.0</td>\n",
       "      <td>0.0</td>\n",
       "      <td>0.0</td>\n",
       "      <td>0.0</td>\n",
       "      <td>0.0</td>\n",
       "      <td>0.0</td>\n",
       "      <td>0.0</td>\n",
       "      <td>0.0</td>\n",
       "    </tr>\n",
       "    <tr>\n",
       "      <th>2</th>\n",
       "      <td>Chandler Bing</td>\n",
       "      <td>s01_e01</td>\n",
       "      <td>0.0</td>\n",
       "      <td>0.0</td>\n",
       "      <td>0.0</td>\n",
       "      <td>0.0</td>\n",
       "      <td>0.0</td>\n",
       "      <td>0.0</td>\n",
       "      <td>0.0</td>\n",
       "      <td>0.0</td>\n",
       "      <td>...</td>\n",
       "      <td>0.0</td>\n",
       "      <td>0.0</td>\n",
       "      <td>0.0</td>\n",
       "      <td>0.0</td>\n",
       "      <td>0.0</td>\n",
       "      <td>0.0</td>\n",
       "      <td>0.0</td>\n",
       "      <td>0.0</td>\n",
       "      <td>0.0</td>\n",
       "      <td>0.0</td>\n",
       "    </tr>\n",
       "  </tbody>\n",
       "</table>\n",
       "<p>3 rows × 1002 columns</p>\n",
       "</div>"
      ],
      "text/plain": [
       "          speaker  episode    0    1    2    3    4    5    6    7  ...  990  \\\n",
       "0   Monica Geller  s01_e01  0.0  0.0  0.0  0.0  0.0  0.0  0.0  0.0  ...  0.0   \n",
       "1  Joey Tribbiani  s01_e01  0.0  0.0  0.0  0.0  0.0  0.0  0.0  0.0  ...  0.0   \n",
       "2   Chandler Bing  s01_e01  0.0  0.0  0.0  0.0  0.0  0.0  0.0  0.0  ...  0.0   \n",
       "\n",
       "   991  992  993  994  995  996  997  998  999  \n",
       "0  0.0  0.0  0.0  0.0  0.0  0.0  0.0  0.0  0.0  \n",
       "1  0.0  0.0  0.0  0.0  0.0  0.0  0.0  0.0  0.0  \n",
       "2  0.0  0.0  0.0  0.0  0.0  0.0  0.0  0.0  0.0  \n",
       "\n",
       "[3 rows x 1002 columns]"
      ]
     },
     "execution_count": 245,
     "metadata": {},
     "output_type": "execute_result"
    }
   ],
   "source": [
    "from sklearn.feature_extraction.text import TfidfVectorizer\n",
    "df_tfidf = pd.read_json(\"./data/exam3.jsonl\", lines=True)[[\"speaker\", \"episode\", \"text\"]]\n",
    "\n",
    "vectorizer = TfidfVectorizer(max_features=1000, stop_words=\"english\")\n",
    "X = vectorizer.fit_transform(df_tfidf.text).toarray()\n",
    "print(\"X shape\", X.shape)\n",
    "\n",
    "\n",
    "map_char_to_int = {\n",
    "'Chandler Bing': 0,\n",
    "'Joey Tribbiani': 1,\n",
    "'Monica Geller': 2,\n",
    "'Phoebe Buffay': 3,\n",
    "'Rachel Green': 4,\n",
    "'Ross Geller': 5\n",
    "}\n",
    "\n",
    "\n",
    "y = df_tfidf.speaker.apply(lambda x: map_char_to_int[x]).values\n",
    "print(\"y shape\", y.shape)\n",
    "\n",
    "df_tfidf = pd.concat([df_tfidf[[\"speaker\", \"episode\"]],  pd.DataFrame(X)], axis=1)\n",
    "\n",
    "df_tfidf.head(3)"
   ]
  },
  {
   "cell_type": "markdown",
   "id": "15f01045",
   "metadata": {},
   "source": [
    "--- "
   ]
  },
  {
   "cell_type": "markdown",
   "id": "76d6b6f1",
   "metadata": {},
   "source": [
    "**2.2 —** To compare characters, carry out a classification task. Train a decision tree classifier to predict which main character uttered a sentence..\n",
    "\n",
    "A. Split the dataset into training and test sets using sklearn `sklearn.model_selection.train_test_split` using parameters `test_size=0.3` and `random_state=42`, and using the default values for all other parameters.\n"
   ]
  },
  {
   "cell_type": "code",
   "execution_count": 246,
   "id": "59790989",
   "metadata": {},
   "outputs": [],
   "source": [
    "from sklearn.model_selection import train_test_split\n",
    "X_train, X_test, y_train, y_test = train_test_split(X, y, test_size=0.3, random_state=42)"
   ]
  },
  {
   "cell_type": "markdown",
   "id": "96399812",
   "metadata": {},
   "source": [
    "\n",
    "B. Train a decision tree classifier (`sklearn.tree.DecisionTreeClassifier`) using `random_state=42`, leaving all other parameters as their default.\n"
   ]
  },
  {
   "cell_type": "code",
   "execution_count": 247,
   "id": "edcba6f8",
   "metadata": {},
   "outputs": [],
   "source": [
    "from sklearn.tree import DecisionTreeClassifier\n",
    "clf = DecisionTreeClassifier(random_state=42).fit(X_train, y_train)"
   ]
  },
  {
   "cell_type": "markdown",
   "id": "ed44846e",
   "metadata": {},
   "source": [
    "\n",
    "C. Compute the accuracy of your classifier and of a random baseline, i.e., a classifier that predicts a character uniformly at random. **/Discuss:/** Compare the two accuracies.\n"
   ]
  },
  {
   "cell_type": "code",
   "execution_count": 249,
   "id": "b2ba78ef",
   "metadata": {},
   "outputs": [
    {
     "name": "stdout",
     "output_type": "stream",
     "text": [
      "Accuracy of the classifier on the test set : 0.2383\n",
      "Accuracy for a random classifier on the test set : 0.1704\n"
     ]
    }
   ],
   "source": [
    "from sklearn.metrics import accuracy_score\n",
    "y_pred = clf.predict(X_test)\n",
    "accuracy_clf = accuracy_score(y_true=y_test, y_pred=y_pred)\n",
    "\n",
    "y_rdn = np.random.randint(0,6, size=len(y_test))\n",
    "accuracy_rdn = accuracy_score(y_true=y_test, y_pred=y_rdn)\n",
    "\n",
    "print(f'Accuracy of the classifier on the test set : {accuracy_clf:.4f}')\n",
    "print(f'Accuracy for a random classifier on the test set : {accuracy_rdn:.4f}')"
   ]
  },
  {
   "cell_type": "markdown",
   "id": "74c2908d",
   "metadata": {},
   "source": [
    "The accuracy of our classifier is not very high but still larger than the accuracy of a random classifier. However, there might be an inbalance in the dataset regarding the number of utterances of the character and this may biases our results. "
   ]
  },
  {
   "cell_type": "markdown",
   "id": "35837a4a",
   "metadata": {},
   "source": [
    "\n",
    "\n",
    "D. Compute the confusion matrix of your classifier using `sklearn.metrics.confusion_matrix`. Normalize the confusion matrix such that all cells sum to 1.\n"
   ]
  },
  {
   "cell_type": "code",
   "execution_count": 252,
   "id": "f7a28bdc",
   "metadata": {},
   "outputs": [],
   "source": [
    "from sklearn.metrics import confusion_matrix\n",
    "\n",
    "confusion_matrix = confusion_matrix(y_true=y_test, y_pred=y_pred, normalize='all')"
   ]
  },
  {
   "cell_type": "markdown",
   "id": "a2ee1597",
   "metadata": {},
   "source": [
    "\n",
    "E. Plot an appropriate graphical representation of the confusion matrix.\n"
   ]
  },
  {
   "cell_type": "code",
   "execution_count": 255,
   "id": "9621144a",
   "metadata": {},
   "outputs": [
    {
     "data": {
      "image/png": "[encoded data removed]",
      "text/plain": [
       "<Figure size 640x480 with 2 Axes>"
      ]
     },
     "metadata": {},
     "output_type": "display_data"
    }
   ],
   "source": [
    "sns.heatmap(confusion_matrix, annot=True)\n",
    "plt.title('Heatmap of the confusion matrix of our classifier results')\n",
    "plt.ylabel('True character')\n",
    "plt.xlabel('Predicted character')\n",
    "plt.show()"
   ]
  },
  {
   "cell_type": "markdown",
   "id": "75193a97",
   "metadata": {},
   "source": [
    "\n",
    "F. **/Discuss:/** Analyzing the confusion matrix, discuss:\n",
    "   - Which character is most distinct in the way they talk?\n",
    "   - Which two characters are the most similar in the way they talk?\n",
    "   - Which two characters are the least similar in the way they talk?\n"
   ]
  },
  {
   "cell_type": "markdown",
   "id": "8a2106ab",
   "metadata": {},
   "source": [
    "- The character that have the higher true positive score is the 2nd one (Monica Geller), in particular when she's talking the classifier have a low probability of predicting any other character than her so she is the more easily classified.\n",
    "- Character 0 (Chandler Bing) is often confused with character 2 (Monica Geller) by the classifier (high error rate on this combination) so it seems that Chandler talks a lot like Monica\n",
    "- Character 0 (Chandler Bing) is very rarely confused with character 3 (Phoebe Buffay) by the classifier as seen by the low value in the confusion matrix. So it seems that the way Chandler speak is very unsimilar to the way Phoebe speaks. "
   ]
  },
  {
   "cell_type": "markdown",
   "id": "1a158a88",
   "metadata": {},
   "source": [
    "---\n",
    "\n",
    "**2.3 —** **/Discuss:/** Last, you discuss the results obtained in **2.2** with a friend, who asks you some thought-provoking questions.\n",
    "\n",
    "A. Your friend proposes that you should create a measure of similarity between two characters in a given episode in a more direct way than what you've done in **2.2**.  Propose (but do not implement) said similarity metric.\n",
    "\n",
    "B. Your friend also suggests that your analysis might not truly capture how two characters differ. According to her, if people are in the same conversation, they might speak similarly simply because they are in the same social context. Propose (but do not implement) a way of creating a dataset where this confounder does not exist.\n",
    "\n",
    "C. Last, your friend complains about how you present your (normalized) confusion matrix. According to her, from reading the cells alone, it is unclear if the fraction of occurrences is higher or lower than what a random classifier would yield. Propose (but do not implement) a way of modifying the confusion matrix to address her concern.\n"
   ]
  },
  {
   "cell_type": "markdown",
   "id": "298bf368",
   "metadata": {},
   "source": [
    "A. \n",
    "\n",
    "B. We can repeat the same analysis but by only keeping the conversation where all characters are part and keeping the same number of utterance of each character in these conversations.\n",
    "\n",
    "C. We can compute the same confusion matrix with the mean of several random classifier and then substract the value of these random classifier from the one we got with the model so that the remaining value only reflect the increase (or decrease) of performance of our classifier compare to a random one."
   ]
  },
  {
   "cell_type": "markdown",
   "id": "25c65d90",
   "metadata": {},
   "source": [
    "---"
   ]
  }
 ],
 "metadata": {
  "kernelspec": {
   "display_name": "Python 3 (ipykernel)",
   "language": "python",
   "name": "python3"
  },
  "language_info": {
   "codemirror_mode": {
    "name": "ipython",
    "version": 3
   },
   "file_extension": ".py",
   "mimetype": "text/x-python",
   "name": "python",
   "nbconvert_exporter": "python",
   "pygments_lexer": "ipython3",
   "version": "3.9.7"
  }
 },
 "nbformat": 4,
 "nbformat_minor": 5
}
